{
 "cells": [
  {
   "cell_type": "code",
   "execution_count": 2,
   "metadata": {},
   "outputs": [],
   "source": [
    "import os\n",
    "from gymhelpers import ExperimentsManager\n",
    "import scipy.io as scipyio\n",
    "import numpy as np\n",
    "from collections import defaultdict"
   ]
  },
  {
   "cell_type": "code",
   "execution_count": null,
   "metadata": {
    "scrolled": true
   },
   "outputs": [
    {
     "name": "stdout",
     "output_type": "stream",
     "text": [
      "Problem: InvertedPendulum-v1, Actions: 2001, Temp: 1, Strategy: sparsemax, Backup: bellman\n"
     ]
    },
    {
     "name": "stderr",
     "output_type": "stream",
     "text": [
      "[2017-10-23 15:52:53,925] Making new env: InvertedPendulum-v1\n",
      "[2017-10-23 15:52:53,930] Making new env: InvertedPendulum-v1\n"
     ]
    },
    {
     "name": "stdout",
     "output_type": "stream",
     "text": [
      "\n",
      "EXECUTING EXPERIMENT 0 OF 3 IN ENVIRONMENT InvertedPendulum-v1.\n",
      "Final mean reward, averaged over 1 experiment: 39.9696969697 (std = 0.0).\n"
     ]
    },
    {
     "name": "stderr",
     "output_type": "stream",
     "text": [
      "[2017-10-23 17:20:46,430] Making new env: InvertedPendulum-v1\n"
     ]
    },
    {
     "name": "stdout",
     "output_type": "stream",
     "text": [
      "Average episode duration: 1317.502600 ms\n",
      "\n",
      "EXECUTING EXPERIMENT 1 OF 3 IN ENVIRONMENT InvertedPendulum-v1.\n",
      "Minimum average reward reached. Stop training and exploration.\n",
      "Final mean reward, averaged over 2 experiments: 519.984848485 (std = 480.015151515).\n"
     ]
    },
    {
     "name": "stderr",
     "output_type": "stream",
     "text": [
      "[2017-10-23 19:00:20,839] Making new env: InvertedPendulum-v1\n"
     ]
    },
    {
     "name": "stdout",
     "output_type": "stream",
     "text": [
      "Average episode duration: 1492.995977 ms\n",
      "\n",
      "EXECUTING EXPERIMENT 2 OF 3 IN ENVIRONMENT InvertedPendulum-v1.\n",
      "Minimum average reward reached. Stop training and exploration.\n",
      "Final mean reward, averaged over 3 experiments: 679.98989899 (std = 452.562624945).\n",
      "Average episode duration: 1047.658171 ms\n",
      "Average final reward: 680.00 (std=0.72).\n",
      "\n",
      "The 100-episode moving average reached 930 after 0 episodes.\n",
      "Problem: InvertedPendulum-v1, Actions: 2001, Temp: 1, Strategy: softmax, Backup: bellman\n"
     ]
    },
    {
     "name": "stderr",
     "output_type": "stream",
     "text": [
      "[2017-10-23 20:10:16,998] Making new env: InvertedPendulum-v1\n",
      "[2017-10-23 20:10:17,002] Making new env: InvertedPendulum-v1\n"
     ]
    },
    {
     "name": "stdout",
     "output_type": "stream",
     "text": [
      "\n",
      "EXECUTING EXPERIMENT 0 OF 3 IN ENVIRONMENT InvertedPendulum-v1.\n",
      "Minimum average reward reached. Stop training and exploration.\n",
      "Final mean reward, averaged over 1 experiment: 1000.0 (std = 0.0).\n"
     ]
    },
    {
     "name": "stderr",
     "output_type": "stream",
     "text": [
      "[2017-10-23 20:47:13,026] Making new env: InvertedPendulum-v1\n"
     ]
    },
    {
     "name": "stdout",
     "output_type": "stream",
     "text": [
      "Average episode duration: 553.399014 ms\n",
      "\n",
      "EXECUTING EXPERIMENT 1 OF 3 IN ENVIRONMENT InvertedPendulum-v1.\n",
      "Final mean reward, averaged over 2 experiments: 570.545454545 (std = 429.454545455).\n"
     ]
    },
    {
     "name": "stderr",
     "output_type": "stream",
     "text": [
      "[2017-10-23 21:13:14,080] Making new env: InvertedPendulum-v1\n"
     ]
    },
    {
     "name": "stdout",
     "output_type": "stream",
     "text": [
      "Average episode duration: 389.603792 ms\n",
      "\n",
      "EXECUTING EXPERIMENT 2 OF 3 IN ENVIRONMENT InvertedPendulum-v1.\n",
      "Final mean reward, averaged over 3 experiments: 382.784511785 (std = 439.843700641).\n",
      "Average episode duration: 250.995248 ms\n",
      "Average final reward: 382.69 (std=44.07).\n",
      "\n",
      "The 100-episode moving average reached 930 after 0 episodes.\n",
      "Problem: InvertedPendulum-v1, Actions: 2001, Temp: 1, Strategy: epsilon, Backup: bellman\n"
     ]
    },
    {
     "name": "stderr",
     "output_type": "stream",
     "text": [
      "[2017-10-23 21:30:03,636] Making new env: InvertedPendulum-v1\n",
      "[2017-10-23 21:30:03,641] Making new env: InvertedPendulum-v1\n"
     ]
    },
    {
     "name": "stdout",
     "output_type": "stream",
     "text": [
      "\n",
      "EXECUTING EXPERIMENT 0 OF 3 IN ENVIRONMENT InvertedPendulum-v1.\n",
      "Final mean reward, averaged over 1 experiment: 17.6161616162 (std = 0.0).\n"
     ]
    },
    {
     "name": "stderr",
     "output_type": "stream",
     "text": [
      "[2017-10-23 21:51:29,357] Making new env: InvertedPendulum-v1\n"
     ]
    },
    {
     "name": "stdout",
     "output_type": "stream",
     "text": [
      "Average episode duration: 320.802758 ms\n",
      "\n",
      "EXECUTING EXPERIMENT 1 OF 3 IN ENVIRONMENT InvertedPendulum-v1.\n",
      "Final mean reward, averaged over 2 experiments: 10.4646464646 (std = 7.15151515152).\n"
     ]
    },
    {
     "name": "stderr",
     "output_type": "stream",
     "text": [
      "[2017-10-23 22:22:48,243] Making new env: InvertedPendulum-v1\n"
     ]
    },
    {
     "name": "stdout",
     "output_type": "stream",
     "text": [
      "Average episode duration: 469.089522 ms\n",
      "\n",
      "EXECUTING EXPERIMENT 2 OF 3 IN ENVIRONMENT InvertedPendulum-v1.\n",
      "Final mean reward, averaged over 3 experiments: 13.0067340067 (std = 6.85715179829).\n",
      "Average episode duration: 150.078169 ms\n",
      "Average final reward: 13.11 (std=6.92).\n",
      "\n",
      "The 100-episode moving average reached 930 after 0 episodes.\n",
      "Problem: InvertedPendulum-v1, Actions: 1001, Temp: 1, Strategy: sparsemax, Backup: bellman\n"
     ]
    },
    {
     "name": "stderr",
     "output_type": "stream",
     "text": [
      "[2017-10-23 22:32:54,310] Making new env: InvertedPendulum-v1\n",
      "[2017-10-23 22:32:54,315] Making new env: InvertedPendulum-v1\n"
     ]
    },
    {
     "name": "stdout",
     "output_type": "stream",
     "text": [
      "\n",
      "EXECUTING EXPERIMENT 0 OF 3 IN ENVIRONMENT InvertedPendulum-v1.\n",
      "Minimum average reward reached. Stop training and exploration.\n",
      "Final mean reward, averaged over 1 experiment: 1000.0 (std = 0.0).\n"
     ]
    },
    {
     "name": "stderr",
     "output_type": "stream",
     "text": [
      "[2017-10-23 23:16:46,240] Making new env: InvertedPendulum-v1\n"
     ]
    },
    {
     "name": "stdout",
     "output_type": "stream",
     "text": [
      "Average episode duration: 657.395358 ms\n",
      "\n",
      "EXECUTING EXPERIMENT 1 OF 3 IN ENVIRONMENT InvertedPendulum-v1.\n",
      "Minimum average reward reached. Stop training and exploration.\n",
      "Final mean reward, averaged over 2 experiments: 1000.0 (std = 0.0).\n"
     ]
    },
    {
     "name": "stderr",
     "output_type": "stream",
     "text": [
      "[2017-10-24 00:10:56,502] Making new env: InvertedPendulum-v1\n"
     ]
    },
    {
     "name": "stdout",
     "output_type": "stream",
     "text": [
      "Average episode duration: 811.919860 ms\n",
      "\n",
      "EXECUTING EXPERIMENT 2 OF 3 IN ENVIRONMENT InvertedPendulum-v1.\n",
      "Minimum average reward reached. Stop training and exploration.\n",
      "Final mean reward, averaged over 3 experiments: 1000.0 (std = 0.0).\n",
      "Average episode duration: 820.166707 ms\n",
      "Average final reward: 1000.00 (std=0.00).\n",
      "\n",
      "The 100-episode moving average reached 930 after 814 episodes.\n",
      "Problem: InvertedPendulum-v1, Actions: 1001, Temp: 1, Strategy: softmax, Backup: bellman\n"
     ]
    },
    {
     "name": "stderr",
     "output_type": "stream",
     "text": [
      "[2017-10-24 01:05:42,925] Making new env: InvertedPendulum-v1\n",
      "[2017-10-24 01:05:42,929] Making new env: InvertedPendulum-v1\n"
     ]
    },
    {
     "name": "stdout",
     "output_type": "stream",
     "text": [
      "\n",
      "EXECUTING EXPERIMENT 0 OF 3 IN ENVIRONMENT InvertedPendulum-v1.\n",
      "Minimum average reward reached. Stop training and exploration.\n",
      "Final mean reward, averaged over 1 experiment: 1000.0 (std = 0.0).\n"
     ]
    },
    {
     "name": "stderr",
     "output_type": "stream",
     "text": [
      "[2017-10-24 02:00:01,831] Making new env: InvertedPendulum-v1\n"
     ]
    },
    {
     "name": "stdout",
     "output_type": "stream",
     "text": [
      "Average episode duration: 814.123146 ms\n",
      "\n",
      "EXECUTING EXPERIMENT 1 OF 3 IN ENVIRONMENT InvertedPendulum-v1.\n"
     ]
    },
    {
     "name": "stderr",
     "output_type": "stream",
     "text": [
      "[2017-10-24 02:08:55,485] Finished writing results. You can upload them to the scoreboard via gym.upload('/home/kj/Projects/github_sources/DQN/Gym_stats/InvertedPendulum-v1/sparsemax/bellman/low/large/0001')\n"
     ]
    }
   ],
   "source": [
    "strategies = [\"sparsemax\",\"softmax\",\"epsilon\"]\n",
    "backuprules = [\"bellman\",\"bellman\",\"bellman\"]\n",
    "temperatures = [1,1,1]\n",
    "temperatures_name = [\"low\",\"mid\",\"mid\",\"high\",\"low\"]\n",
    "\n",
    "action_res_list = [2001, 1001, 101, 3]\n",
    "action_res_name = [\"large\",\"midlarge\",\"midsmall\",\"small\"]\n",
    "\n",
    "env_name = \"InvertedPendulum-v1\"\n",
    "min_avg_rwd = 930\n",
    "stop_training_min_avg_rwd = 950\n",
    "layers_size = [512, 512]\n",
    "n_ep = 4000\n",
    "n_exps = 3\n",
    "\n",
    "figures_dir = 'Figures'\n",
    "api_key = '###'\n",
    "alg_id = '###'\n",
    "\n",
    "data = defaultdict(lambda : defaultdict(lambda : defaultdict(lambda : defaultdict(lambda : None))))\n",
    "for action_res, action_name in zip(action_res_list,action_res_name):\n",
    "    for temperature, temperature_name, strategy, backuprule in zip(temperatures, temperatures_name, strategies, backuprules):\n",
    "                gym_stats_dir_prefix = os.path.join('Gym_stats', \n",
    "                                                    env_name+'/'+str(strategy)+'/'+str(backuprule)+'/'+str(temperature_name)+'/'+str(action_name))\n",
    "                print(\"Problem: {}, Actions: {}, Temp: {}, Strategy: {}, Backup: {}\".format(env_name,np.prod(action_res),temperature,strategy,backuprule))\n",
    "                expsman = ExperimentsManager(env_name=env_name, agent_value_function_hidden_layers_size=layers_size,\n",
    "                                     figures_dir=figures_dir, discount=0.99, decay_eps=0.995, eps_min=1E-4, learning_rate=3E-4,\n",
    "                                     decay_lr=True, max_step=2000, replay_memory_max_size=100000, ep_verbose=False,\n",
    "                                     exp_verbose=False, learning_rate_end=3E-5, batch_size=128, upload_last_exp=False, double_dqn=True, dueling=False,\n",
    "                                     target_params_update_period_steps=75, replay_period_steps=4, min_avg_rwd=min_avg_rwd,\n",
    "                                     per_proportional_prioritization=True, per_apply_importance_sampling=True, per_alpha=0.2,\n",
    "                                     per_beta0=0.4,\n",
    "                                     results_dir_prefix=gym_stats_dir_prefix, gym_api_key=api_key, gym_algorithm_id=alg_id,\n",
    "                                     strategy=strategy,backuprule=backuprule,\n",
    "                                     temperature_max=100, decay_temperature=0.95, temperature_min=1,\n",
    "                                     action_res=action_res,\n",
    "                                     video_recording=False)\n",
    "                _, _, Rwd_per_ep_v, Loss_per_ep_v = expsman.run_experiments(n_exps=n_exps, n_ep=n_ep, stop_training_min_avg_rwd=stop_training_min_avg_rwd, plot_results=False)\n",
    "                data[action_name][temperature_name][strategy][backuprule] = {\"reward_list\":Rwd_per_ep_v,\"loss_list\":Loss_per_ep_v}\n",
    "\n",
    "scipyio.savemat(env_name+\"_selected.mat\", data)\n",
    "print(\"{} is finished and is saved\".format(env_name))"
   ]
  },
  {
   "cell_type": "code",
   "execution_count": null,
   "metadata": {},
   "outputs": [],
   "source": []
  }
 ],
 "metadata": {
  "kernelspec": {
   "display_name": "Python 2",
   "language": "python",
   "name": "python2"
  },
  "language_info": {
   "codemirror_mode": {
    "name": "ipython",
    "version": 2
   },
   "file_extension": ".py",
   "mimetype": "text/x-python",
   "name": "python",
   "nbconvert_exporter": "python",
   "pygments_lexer": "ipython2",
   "version": "2.7.12"
  }
 },
 "nbformat": 4,
 "nbformat_minor": 2
}
