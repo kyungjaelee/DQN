{
 "cells": [
  {
   "cell_type": "code",
   "execution_count": 1,
   "metadata": {},
   "outputs": [
    {
     "name": "stderr",
     "output_type": "stream",
     "text": [
      "/home/kj/.local/lib/python2.7/site-packages/requests/__init__.py:80: RequestsDependencyWarning: urllib3 (1.22) or chardet (2.3.0) doesn't match a supported version!\n",
      "  RequestsDependencyWarning)\n"
     ]
    }
   ],
   "source": [
    "import os\n",
    "from gymhelpers import ExperimentsManager\n",
    "import scipy.io as scipyio\n",
    "import numpy as np\n",
    "from collections import defaultdict"
   ]
  },
  {
   "cell_type": "code",
   "execution_count": 2,
   "metadata": {
    "scrolled": false
   },
   "outputs": [
    {
     "name": "stdout",
     "output_type": "stream",
     "text": [
      "Problem: Reacher-v1, Actions: 2601, Temp: 0.1, Strategy: sparsemax, Backup: bellman\n"
     ]
    },
    {
     "name": "stderr",
     "output_type": "stream",
     "text": [
      "[2017-09-06 17:09:20,743] Making new env: Reacher-v1\n",
      "[2017-09-06 17:09:20,976] Making new env: Reacher-v1\n"
     ]
    },
    {
     "name": "stdout",
     "output_type": "stream",
     "text": [
      "\n",
      "EXECUTING EXPERIMENT 0 OF 1 IN ENVIRONMENT Reacher-v1.\n"
     ]
    },
    {
     "name": "stderr",
     "output_type": "stream",
     "text": [
      "[2017-09-06 19:28:55,991] Starting new video recorder writing to /home/kj/TestCodes/MyTrial/DQN/DQN/Gym_stats/Reacher-v1/sparsemax/bellman/mid/large/0001/openaigym.video.0.31439.video009910.mp4\n",
      "[2017-09-06 19:29:05,762] Starting new video recorder writing to /home/kj/TestCodes/MyTrial/DQN/DQN/Gym_stats/Reacher-v1/sparsemax/bellman/mid/large/0001/openaigym.video.0.31439.video009920.mp4\n",
      "[2017-09-06 19:29:15,036] Starting new video recorder writing to /home/kj/TestCodes/MyTrial/DQN/DQN/Gym_stats/Reacher-v1/sparsemax/bellman/mid/large/0001/openaigym.video.0.31439.video009930.mp4\n",
      "[2017-09-06 19:29:24,342] Starting new video recorder writing to /home/kj/TestCodes/MyTrial/DQN/DQN/Gym_stats/Reacher-v1/sparsemax/bellman/mid/large/0001/openaigym.video.0.31439.video009940.mp4\n",
      "[2017-09-06 19:29:33,828] Starting new video recorder writing to /home/kj/TestCodes/MyTrial/DQN/DQN/Gym_stats/Reacher-v1/sparsemax/bellman/mid/large/0001/openaigym.video.0.31439.video009950.mp4\n",
      "[2017-09-06 19:29:43,173] Starting new video recorder writing to /home/kj/TestCodes/MyTrial/DQN/DQN/Gym_stats/Reacher-v1/sparsemax/bellman/mid/large/0001/openaigym.video.0.31439.video009960.mp4\n",
      "[2017-09-06 19:29:52,453] Starting new video recorder writing to /home/kj/TestCodes/MyTrial/DQN/DQN/Gym_stats/Reacher-v1/sparsemax/bellman/mid/large/0001/openaigym.video.0.31439.video009970.mp4\n",
      "[2017-09-06 19:30:01,706] Starting new video recorder writing to /home/kj/TestCodes/MyTrial/DQN/DQN/Gym_stats/Reacher-v1/sparsemax/bellman/mid/large/0001/openaigym.video.0.31439.video009980.mp4\n",
      "[2017-09-06 19:30:11,014] Starting new video recorder writing to /home/kj/TestCodes/MyTrial/DQN/DQN/Gym_stats/Reacher-v1/sparsemax/bellman/mid/large/0001/openaigym.video.0.31439.video009990.mp4\n",
      "[2017-09-06 19:30:20,303] Finished writing results. You can upload them to the scoreboard via gym.upload('/home/kj/TestCodes/MyTrial/DQN/DQN/Gym_stats/Reacher-v1/sparsemax/bellman/mid/large/0001')\n"
     ]
    },
    {
     "name": "stdout",
     "output_type": "stream",
     "text": [
      "Final mean reward, averaged over 1 experiment: -6.07980007183 (std = 0.0).\n"
     ]
    },
    {
     "name": "stderr",
     "output_type": "stream",
     "text": [
      "plot_utils.py:83: RuntimeWarning: invalid value encountered in divide\n",
      "  factor = higher_border / mu\n"
     ]
    },
    {
     "name": "stdout",
     "output_type": "stream",
     "text": [
      "Average episode duration: 845.840512 ms\n",
      "Average final reward: -6.10 (std=3.55).\n",
      "\n",
      "The 100-episode moving average reached -3.5 after 0 episodes.\n",
      "Problem: Reacher-v1, Actions: 2601, Temp: 0.1, Strategy: sparsemax, Backup: sparsebellman\n"
     ]
    },
    {
     "name": "stderr",
     "output_type": "stream",
     "text": [
      "[2017-09-06 19:30:30,759] Making new env: Reacher-v1\n",
      "[2017-09-06 19:30:30,767] Making new env: Reacher-v1\n"
     ]
    },
    {
     "name": "stdout",
     "output_type": "stream",
     "text": [
      "\n",
      "EXECUTING EXPERIMENT 0 OF 1 IN ENVIRONMENT Reacher-v1.\n"
     ]
    },
    {
     "name": "stderr",
     "output_type": "stream",
     "text": [
      "[2017-09-06 21:54:48,638] Starting new video recorder writing to /home/kj/TestCodes/MyTrial/DQN/DQN/Gym_stats/Reacher-v1/sparsemax/sparsebellman/mid/large/0001/openaigym.video.1.31439.video009910.mp4\n",
      "[2017-09-06 21:54:57,597] Starting new video recorder writing to /home/kj/TestCodes/MyTrial/DQN/DQN/Gym_stats/Reacher-v1/sparsemax/sparsebellman/mid/large/0001/openaigym.video.1.31439.video009920.mp4\n",
      "[2017-09-06 21:55:06,578] Starting new video recorder writing to /home/kj/TestCodes/MyTrial/DQN/DQN/Gym_stats/Reacher-v1/sparsemax/sparsebellman/mid/large/0001/openaigym.video.1.31439.video009930.mp4\n",
      "[2017-09-06 21:55:15,368] Starting new video recorder writing to /home/kj/TestCodes/MyTrial/DQN/DQN/Gym_stats/Reacher-v1/sparsemax/sparsebellman/mid/large/0001/openaigym.video.1.31439.video009940.mp4\n",
      "[2017-09-06 21:55:24,345] Starting new video recorder writing to /home/kj/TestCodes/MyTrial/DQN/DQN/Gym_stats/Reacher-v1/sparsemax/sparsebellman/mid/large/0001/openaigym.video.1.31439.video009950.mp4\n",
      "[2017-09-06 21:55:33,308] Starting new video recorder writing to /home/kj/TestCodes/MyTrial/DQN/DQN/Gym_stats/Reacher-v1/sparsemax/sparsebellman/mid/large/0001/openaigym.video.1.31439.video009960.mp4\n",
      "[2017-09-06 21:55:42,187] Starting new video recorder writing to /home/kj/TestCodes/MyTrial/DQN/DQN/Gym_stats/Reacher-v1/sparsemax/sparsebellman/mid/large/0001/openaigym.video.1.31439.video009970.mp4\n",
      "[2017-09-06 21:55:51,173] Starting new video recorder writing to /home/kj/TestCodes/MyTrial/DQN/DQN/Gym_stats/Reacher-v1/sparsemax/sparsebellman/mid/large/0001/openaigym.video.1.31439.video009980.mp4\n",
      "[2017-09-06 21:56:00,477] Starting new video recorder writing to /home/kj/TestCodes/MyTrial/DQN/DQN/Gym_stats/Reacher-v1/sparsemax/sparsebellman/mid/large/0001/openaigym.video.1.31439.video009990.mp4\n",
      "[2017-09-06 21:56:10,006] Finished writing results. You can upload them to the scoreboard via gym.upload('/home/kj/TestCodes/MyTrial/DQN/DQN/Gym_stats/Reacher-v1/sparsemax/sparsebellman/mid/large/0001')\n"
     ]
    },
    {
     "name": "stdout",
     "output_type": "stream",
     "text": [
      "Final mean reward, averaged over 1 experiment: -5.8419181266 (std = 0.0).\n",
      "Average episode duration: 873.832451 ms\n",
      "Average final reward: -5.86 (std=3.40).\n",
      "\n",
      "The 100-episode moving average reached -3.5 after 0 episodes.\n",
      "Problem: Reacher-v1, Actions: 2601, Temp: 1, Strategy: epsilon, Backup: softbellman\n"
     ]
    },
    {
     "name": "stderr",
     "output_type": "stream",
     "text": [
      "[2017-09-06 21:56:20,355] Making new env: Reacher-v1\n",
      "[2017-09-06 21:56:20,362] Making new env: Reacher-v1\n"
     ]
    },
    {
     "name": "stdout",
     "output_type": "stream",
     "text": [
      "\n",
      "EXECUTING EXPERIMENT 0 OF 1 IN ENVIRONMENT Reacher-v1.\n"
     ]
    },
    {
     "name": "stderr",
     "output_type": "stream",
     "text": [
      "[2017-09-06 22:26:22,150] Starting new video recorder writing to /home/kj/TestCodes/MyTrial/DQN/DQN/Gym_stats/Reacher-v1/epsilon/softbellman/high/large/0001/openaigym.video.2.31439.video009910.mp4\n",
      "[2017-09-06 22:26:24,503] Starting new video recorder writing to /home/kj/TestCodes/MyTrial/DQN/DQN/Gym_stats/Reacher-v1/epsilon/softbellman/high/large/0001/openaigym.video.2.31439.video009920.mp4\n",
      "[2017-09-06 22:26:26,782] Starting new video recorder writing to /home/kj/TestCodes/MyTrial/DQN/DQN/Gym_stats/Reacher-v1/epsilon/softbellman/high/large/0001/openaigym.video.2.31439.video009930.mp4\n",
      "[2017-09-06 22:26:29,090] Starting new video recorder writing to /home/kj/TestCodes/MyTrial/DQN/DQN/Gym_stats/Reacher-v1/epsilon/softbellman/high/large/0001/openaigym.video.2.31439.video009940.mp4\n",
      "[2017-09-06 22:26:31,398] Starting new video recorder writing to /home/kj/TestCodes/MyTrial/DQN/DQN/Gym_stats/Reacher-v1/epsilon/softbellman/high/large/0001/openaigym.video.2.31439.video009950.mp4\n",
      "[2017-09-06 22:26:33,698] Starting new video recorder writing to /home/kj/TestCodes/MyTrial/DQN/DQN/Gym_stats/Reacher-v1/epsilon/softbellman/high/large/0001/openaigym.video.2.31439.video009960.mp4\n",
      "[2017-09-06 22:26:35,995] Starting new video recorder writing to /home/kj/TestCodes/MyTrial/DQN/DQN/Gym_stats/Reacher-v1/epsilon/softbellman/high/large/0001/openaigym.video.2.31439.video009970.mp4\n",
      "[2017-09-06 22:26:38,312] Starting new video recorder writing to /home/kj/TestCodes/MyTrial/DQN/DQN/Gym_stats/Reacher-v1/epsilon/softbellman/high/large/0001/openaigym.video.2.31439.video009980.mp4\n",
      "[2017-09-06 22:26:40,598] Starting new video recorder writing to /home/kj/TestCodes/MyTrial/DQN/DQN/Gym_stats/Reacher-v1/epsilon/softbellman/high/large/0001/openaigym.video.2.31439.video009990.mp4\n",
      "[2017-09-06 22:26:42,986] Finished writing results. You can upload them to the scoreboard via gym.upload('/home/kj/TestCodes/MyTrial/DQN/DQN/Gym_stats/Reacher-v1/epsilon/softbellman/high/large/0001')\n"
     ]
    },
    {
     "name": "stdout",
     "output_type": "stream",
     "text": [
      "Final mean reward, averaged over 1 experiment: -7.01282700237 (std = 0.0).\n",
      "Average episode duration: 182.173579 ms\n",
      "Average final reward: -7.04 (std=3.99).\n",
      "\n",
      "The 100-episode moving average reached -3.5 after 0 episodes.\n",
      "Problem: Reacher-v1, Actions: 2601, Temp: 0.01, Strategy: epsilon, Backup: sparsebellman\n"
     ]
    },
    {
     "name": "stderr",
     "output_type": "stream",
     "text": [
      "[2017-09-06 22:26:53,270] Making new env: Reacher-v1\n",
      "[2017-09-06 22:26:53,278] Making new env: Reacher-v1\n"
     ]
    },
    {
     "name": "stdout",
     "output_type": "stream",
     "text": [
      "\n",
      "EXECUTING EXPERIMENT 0 OF 1 IN ENVIRONMENT Reacher-v1.\n"
     ]
    },
    {
     "name": "stderr",
     "output_type": "stream",
     "text": [
      "[2017-09-06 22:58:30,295] Starting new video recorder writing to /home/kj/TestCodes/MyTrial/DQN/DQN/Gym_stats/Reacher-v1/epsilon/sparsebellman/low/large/0001/openaigym.video.3.31439.video009910.mp4\n",
      "[2017-09-06 22:58:32,733] Starting new video recorder writing to /home/kj/TestCodes/MyTrial/DQN/DQN/Gym_stats/Reacher-v1/epsilon/sparsebellman/low/large/0001/openaigym.video.3.31439.video009920.mp4\n",
      "[2017-09-06 22:58:35,066] Starting new video recorder writing to /home/kj/TestCodes/MyTrial/DQN/DQN/Gym_stats/Reacher-v1/epsilon/sparsebellman/low/large/0001/openaigym.video.3.31439.video009930.mp4\n",
      "[2017-09-06 22:58:37,372] Starting new video recorder writing to /home/kj/TestCodes/MyTrial/DQN/DQN/Gym_stats/Reacher-v1/epsilon/sparsebellman/low/large/0001/openaigym.video.3.31439.video009940.mp4\n",
      "[2017-09-06 22:58:39,732] Starting new video recorder writing to /home/kj/TestCodes/MyTrial/DQN/DQN/Gym_stats/Reacher-v1/epsilon/sparsebellman/low/large/0001/openaigym.video.3.31439.video009950.mp4\n",
      "[2017-09-06 22:58:42,047] Starting new video recorder writing to /home/kj/TestCodes/MyTrial/DQN/DQN/Gym_stats/Reacher-v1/epsilon/sparsebellman/low/large/0001/openaigym.video.3.31439.video009960.mp4\n",
      "[2017-09-06 22:58:44,406] Starting new video recorder writing to /home/kj/TestCodes/MyTrial/DQN/DQN/Gym_stats/Reacher-v1/epsilon/sparsebellman/low/large/0001/openaigym.video.3.31439.video009970.mp4\n",
      "[2017-09-06 22:58:46,752] Starting new video recorder writing to /home/kj/TestCodes/MyTrial/DQN/DQN/Gym_stats/Reacher-v1/epsilon/sparsebellman/low/large/0001/openaigym.video.3.31439.video009980.mp4\n",
      "[2017-09-06 22:58:49,137] Starting new video recorder writing to /home/kj/TestCodes/MyTrial/DQN/DQN/Gym_stats/Reacher-v1/epsilon/sparsebellman/low/large/0001/openaigym.video.3.31439.video009990.mp4\n",
      "[2017-09-06 22:58:51,569] Finished writing results. You can upload them to the scoreboard via gym.upload('/home/kj/TestCodes/MyTrial/DQN/DQN/Gym_stats/Reacher-v1/epsilon/sparsebellman/low/large/0001')\n"
     ]
    },
    {
     "name": "stdout",
     "output_type": "stream",
     "text": [
      "Final mean reward, averaged over 1 experiment: -6.2181040535 (std = 0.0).\n",
      "Average episode duration: 191.741358 ms\n",
      "Average final reward: -6.23 (std=3.45).\n",
      "\n",
      "The 100-episode moving average reached -3.5 after 0 episodes.\n",
      "Problem: Reacher-v1, Actions: 2601, Temp: 0.1, Strategy: epsilon, Backup: softbellman\n"
     ]
    },
    {
     "name": "stderr",
     "output_type": "stream",
     "text": [
      "[2017-09-06 22:59:02,365] Making new env: Reacher-v1\n",
      "[2017-09-06 22:59:02,374] Making new env: Reacher-v1\n"
     ]
    },
    {
     "name": "stdout",
     "output_type": "stream",
     "text": [
      "\n",
      "EXECUTING EXPERIMENT 0 OF 1 IN ENVIRONMENT Reacher-v1.\n"
     ]
    },
    {
     "name": "stderr",
     "output_type": "stream",
     "text": [
      "[2017-09-06 23:30:59,015] Starting new video recorder writing to /home/kj/TestCodes/MyTrial/DQN/DQN/Gym_stats/Reacher-v1/epsilon/softbellman/mid/large/0001/openaigym.video.4.31439.video009910.mp4\n",
      "[2017-09-06 23:31:01,390] Starting new video recorder writing to /home/kj/TestCodes/MyTrial/DQN/DQN/Gym_stats/Reacher-v1/epsilon/softbellman/mid/large/0001/openaigym.video.4.31439.video009920.mp4\n",
      "[2017-09-06 23:31:03,680] Starting new video recorder writing to /home/kj/TestCodes/MyTrial/DQN/DQN/Gym_stats/Reacher-v1/epsilon/softbellman/mid/large/0001/openaigym.video.4.31439.video009930.mp4\n",
      "[2017-09-06 23:31:05,993] Starting new video recorder writing to /home/kj/TestCodes/MyTrial/DQN/DQN/Gym_stats/Reacher-v1/epsilon/softbellman/mid/large/0001/openaigym.video.4.31439.video009940.mp4\n",
      "[2017-09-06 23:31:08,308] Starting new video recorder writing to /home/kj/TestCodes/MyTrial/DQN/DQN/Gym_stats/Reacher-v1/epsilon/softbellman/mid/large/0001/openaigym.video.4.31439.video009950.mp4\n",
      "[2017-09-06 23:31:10,614] Starting new video recorder writing to /home/kj/TestCodes/MyTrial/DQN/DQN/Gym_stats/Reacher-v1/epsilon/softbellman/mid/large/0001/openaigym.video.4.31439.video009960.mp4\n",
      "[2017-09-06 23:31:12,909] Starting new video recorder writing to /home/kj/TestCodes/MyTrial/DQN/DQN/Gym_stats/Reacher-v1/epsilon/softbellman/mid/large/0001/openaigym.video.4.31439.video009970.mp4\n",
      "[2017-09-06 23:31:15,203] Starting new video recorder writing to /home/kj/TestCodes/MyTrial/DQN/DQN/Gym_stats/Reacher-v1/epsilon/softbellman/mid/large/0001/openaigym.video.4.31439.video009980.mp4\n",
      "[2017-09-06 23:31:17,495] Starting new video recorder writing to /home/kj/TestCodes/MyTrial/DQN/DQN/Gym_stats/Reacher-v1/epsilon/softbellman/mid/large/0001/openaigym.video.4.31439.video009990.mp4\n",
      "[2017-09-06 23:31:19,885] Finished writing results. You can upload them to the scoreboard via gym.upload('/home/kj/TestCodes/MyTrial/DQN/DQN/Gym_stats/Reacher-v1/epsilon/softbellman/mid/large/0001')\n"
     ]
    },
    {
     "name": "stdout",
     "output_type": "stream",
     "text": [
      "Final mean reward, averaged over 1 experiment: -5.91898108823 (std = 0.0).\n",
      "Average episode duration: 193.660842 ms\n",
      "Average final reward: -5.93 (std=2.81).\n",
      "\n",
      "The 100-episode moving average reached -3.5 after 0 episodes.\n",
      "Problem: Reacher-v1, Actions: 961, Temp: 0.1, Strategy: sparsemax, Backup: bellman\n"
     ]
    },
    {
     "name": "stderr",
     "output_type": "stream",
     "text": [
      "[2017-09-06 23:31:30,489] Making new env: Reacher-v1\n",
      "[2017-09-06 23:31:30,496] Making new env: Reacher-v1\n"
     ]
    },
    {
     "name": "stdout",
     "output_type": "stream",
     "text": [
      "\n",
      "EXECUTING EXPERIMENT 0 OF 1 IN ENVIRONMENT Reacher-v1.\n"
     ]
    },
    {
     "name": "stderr",
     "output_type": "stream",
     "text": [
      "[2017-09-07 00:37:12,026] Starting new video recorder writing to /home/kj/TestCodes/MyTrial/DQN/DQN/Gym_stats/Reacher-v1/sparsemax/bellman/mid/midlarge/0001/openaigym.video.5.31439.video009910.mp4\n",
      "[2017-09-07 00:37:16,526] Starting new video recorder writing to /home/kj/TestCodes/MyTrial/DQN/DQN/Gym_stats/Reacher-v1/sparsemax/bellman/mid/midlarge/0001/openaigym.video.5.31439.video009920.mp4\n",
      "[2017-09-07 00:37:20,944] Starting new video recorder writing to /home/kj/TestCodes/MyTrial/DQN/DQN/Gym_stats/Reacher-v1/sparsemax/bellman/mid/midlarge/0001/openaigym.video.5.31439.video009930.mp4\n",
      "[2017-09-07 00:37:25,388] Starting new video recorder writing to /home/kj/TestCodes/MyTrial/DQN/DQN/Gym_stats/Reacher-v1/sparsemax/bellman/mid/midlarge/0001/openaigym.video.5.31439.video009940.mp4\n",
      "[2017-09-07 00:37:29,862] Starting new video recorder writing to /home/kj/TestCodes/MyTrial/DQN/DQN/Gym_stats/Reacher-v1/sparsemax/bellman/mid/midlarge/0001/openaigym.video.5.31439.video009950.mp4\n",
      "[2017-09-07 00:37:34,336] Starting new video recorder writing to /home/kj/TestCodes/MyTrial/DQN/DQN/Gym_stats/Reacher-v1/sparsemax/bellman/mid/midlarge/0001/openaigym.video.5.31439.video009960.mp4\n",
      "[2017-09-07 00:37:38,750] Starting new video recorder writing to /home/kj/TestCodes/MyTrial/DQN/DQN/Gym_stats/Reacher-v1/sparsemax/bellman/mid/midlarge/0001/openaigym.video.5.31439.video009970.mp4\n",
      "[2017-09-07 00:37:43,165] Starting new video recorder writing to /home/kj/TestCodes/MyTrial/DQN/DQN/Gym_stats/Reacher-v1/sparsemax/bellman/mid/midlarge/0001/openaigym.video.5.31439.video009980.mp4\n",
      "[2017-09-07 00:37:47,626] Starting new video recorder writing to /home/kj/TestCodes/MyTrial/DQN/DQN/Gym_stats/Reacher-v1/sparsemax/bellman/mid/midlarge/0001/openaigym.video.5.31439.video009990.mp4\n",
      "[2017-09-07 00:37:52,147] Finished writing results. You can upload them to the scoreboard via gym.upload('/home/kj/TestCodes/MyTrial/DQN/DQN/Gym_stats/Reacher-v1/sparsemax/bellman/mid/midlarge/0001')\n"
     ]
    },
    {
     "name": "stdout",
     "output_type": "stream",
     "text": [
      "Final mean reward, averaged over 1 experiment: -5.93432226172 (std = 0.0).\n",
      "Average episode duration: 398.075177 ms\n",
      "Average final reward: -5.96 (std=2.93).\n",
      "\n",
      "The 100-episode moving average reached -3.5 after 0 episodes.\n",
      "Problem: Reacher-v1, Actions: 961, Temp: 0.1, Strategy: sparsemax, Backup: sparsebellman\n"
     ]
    },
    {
     "name": "stderr",
     "output_type": "stream",
     "text": [
      "[2017-09-07 00:38:02,934] Making new env: Reacher-v1\n",
      "[2017-09-07 00:38:02,940] Making new env: Reacher-v1\n"
     ]
    },
    {
     "name": "stdout",
     "output_type": "stream",
     "text": [
      "\n",
      "EXECUTING EXPERIMENT 0 OF 1 IN ENVIRONMENT Reacher-v1.\n"
     ]
    },
    {
     "name": "stderr",
     "output_type": "stream",
     "text": [
      "[2017-09-07 01:44:22,270] Starting new video recorder writing to /home/kj/TestCodes/MyTrial/DQN/DQN/Gym_stats/Reacher-v1/sparsemax/sparsebellman/mid/midlarge/0001/openaigym.video.6.31439.video009910.mp4\n",
      "[2017-09-07 01:44:26,696] Starting new video recorder writing to /home/kj/TestCodes/MyTrial/DQN/DQN/Gym_stats/Reacher-v1/sparsemax/sparsebellman/mid/midlarge/0001/openaigym.video.6.31439.video009920.mp4\n",
      "[2017-09-07 01:44:31,098] Starting new video recorder writing to /home/kj/TestCodes/MyTrial/DQN/DQN/Gym_stats/Reacher-v1/sparsemax/sparsebellman/mid/midlarge/0001/openaigym.video.6.31439.video009930.mp4\n",
      "[2017-09-07 01:44:35,462] Starting new video recorder writing to /home/kj/TestCodes/MyTrial/DQN/DQN/Gym_stats/Reacher-v1/sparsemax/sparsebellman/mid/midlarge/0001/openaigym.video.6.31439.video009940.mp4\n",
      "[2017-09-07 01:44:39,826] Starting new video recorder writing to /home/kj/TestCodes/MyTrial/DQN/DQN/Gym_stats/Reacher-v1/sparsemax/sparsebellman/mid/midlarge/0001/openaigym.video.6.31439.video009950.mp4\n",
      "[2017-09-07 01:44:44,223] Starting new video recorder writing to /home/kj/TestCodes/MyTrial/DQN/DQN/Gym_stats/Reacher-v1/sparsemax/sparsebellman/mid/midlarge/0001/openaigym.video.6.31439.video009960.mp4\n",
      "[2017-09-07 01:44:48,635] Starting new video recorder writing to /home/kj/TestCodes/MyTrial/DQN/DQN/Gym_stats/Reacher-v1/sparsemax/sparsebellman/mid/midlarge/0001/openaigym.video.6.31439.video009970.mp4\n",
      "[2017-09-07 01:44:53,063] Starting new video recorder writing to /home/kj/TestCodes/MyTrial/DQN/DQN/Gym_stats/Reacher-v1/sparsemax/sparsebellman/mid/midlarge/0001/openaigym.video.6.31439.video009980.mp4\n",
      "[2017-09-07 01:44:57,506] Starting new video recorder writing to /home/kj/TestCodes/MyTrial/DQN/DQN/Gym_stats/Reacher-v1/sparsemax/sparsebellman/mid/midlarge/0001/openaigym.video.6.31439.video009990.mp4\n",
      "[2017-09-07 01:45:02,024] Finished writing results. You can upload them to the scoreboard via gym.upload('/home/kj/TestCodes/MyTrial/DQN/DQN/Gym_stats/Reacher-v1/sparsemax/sparsebellman/mid/midlarge/0001')\n"
     ]
    },
    {
     "name": "stdout",
     "output_type": "stream",
     "text": [
      "Final mean reward, averaged over 1 experiment: -5.41307545523 (std = 0.0).\n",
      "Average episode duration: 401.814717 ms\n",
      "Average final reward: -5.46 (std=2.53).\n",
      "\n",
      "The 100-episode moving average reached -3.5 after 0 episodes.\n",
      "Problem: Reacher-v1, Actions: 961, Temp: 1, Strategy: epsilon, Backup: softbellman\n"
     ]
    },
    {
     "name": "stderr",
     "output_type": "stream",
     "text": [
      "[2017-09-07 01:45:12,825] Making new env: Reacher-v1\n",
      "[2017-09-07 01:45:12,832] Making new env: Reacher-v1\n"
     ]
    },
    {
     "name": "stdout",
     "output_type": "stream",
     "text": [
      "\n",
      "EXECUTING EXPERIMENT 0 OF 1 IN ENVIRONMENT Reacher-v1.\n"
     ]
    },
    {
     "name": "stderr",
     "output_type": "stream",
     "text": [
      "[2017-09-07 02:08:50,872] Starting new video recorder writing to /home/kj/TestCodes/MyTrial/DQN/DQN/Gym_stats/Reacher-v1/epsilon/softbellman/high/midlarge/0001/openaigym.video.7.31439.video009910.mp4\n",
      "[2017-09-07 02:08:52,820] Starting new video recorder writing to /home/kj/TestCodes/MyTrial/DQN/DQN/Gym_stats/Reacher-v1/epsilon/softbellman/high/midlarge/0001/openaigym.video.7.31439.video009920.mp4\n",
      "[2017-09-07 02:08:54,688] Starting new video recorder writing to /home/kj/TestCodes/MyTrial/DQN/DQN/Gym_stats/Reacher-v1/epsilon/softbellman/high/midlarge/0001/openaigym.video.7.31439.video009930.mp4\n",
      "[2017-09-07 02:08:56,522] Starting new video recorder writing to /home/kj/TestCodes/MyTrial/DQN/DQN/Gym_stats/Reacher-v1/epsilon/softbellman/high/midlarge/0001/openaigym.video.7.31439.video009940.mp4\n",
      "[2017-09-07 02:08:58,386] Starting new video recorder writing to /home/kj/TestCodes/MyTrial/DQN/DQN/Gym_stats/Reacher-v1/epsilon/softbellman/high/midlarge/0001/openaigym.video.7.31439.video009950.mp4\n",
      "[2017-09-07 02:09:00,247] Starting new video recorder writing to /home/kj/TestCodes/MyTrial/DQN/DQN/Gym_stats/Reacher-v1/epsilon/softbellman/high/midlarge/0001/openaigym.video.7.31439.video009960.mp4\n",
      "[2017-09-07 02:09:02,104] Starting new video recorder writing to /home/kj/TestCodes/MyTrial/DQN/DQN/Gym_stats/Reacher-v1/epsilon/softbellman/high/midlarge/0001/openaigym.video.7.31439.video009970.mp4\n",
      "[2017-09-07 02:09:03,971] Starting new video recorder writing to /home/kj/TestCodes/MyTrial/DQN/DQN/Gym_stats/Reacher-v1/epsilon/softbellman/high/midlarge/0001/openaigym.video.7.31439.video009980.mp4\n",
      "[2017-09-07 02:09:05,860] Starting new video recorder writing to /home/kj/TestCodes/MyTrial/DQN/DQN/Gym_stats/Reacher-v1/epsilon/softbellman/high/midlarge/0001/openaigym.video.7.31439.video009990.mp4\n",
      "[2017-09-07 02:09:07,797] Finished writing results. You can upload them to the scoreboard via gym.upload('/home/kj/TestCodes/MyTrial/DQN/DQN/Gym_stats/Reacher-v1/epsilon/softbellman/high/midlarge/0001')\n"
     ]
    },
    {
     "name": "stdout",
     "output_type": "stream",
     "text": [
      "Final mean reward, averaged over 1 experiment: -5.45567065117 (std = 0.0).\n",
      "Average episode duration: 143.407706 ms\n",
      "Average final reward: -5.48 (std=2.40).\n",
      "\n",
      "The 100-episode moving average reached -3.5 after 0 episodes.\n",
      "Problem: Reacher-v1, Actions: 961, Temp: 0.01, Strategy: epsilon, Backup: sparsebellman\n"
     ]
    },
    {
     "name": "stderr",
     "output_type": "stream",
     "text": [
      "[2017-09-07 02:09:18,539] Making new env: Reacher-v1\n",
      "[2017-09-07 02:09:18,545] Making new env: Reacher-v1\n"
     ]
    },
    {
     "name": "stdout",
     "output_type": "stream",
     "text": [
      "\n",
      "EXECUTING EXPERIMENT 0 OF 1 IN ENVIRONMENT Reacher-v1.\n"
     ]
    },
    {
     "name": "stderr",
     "output_type": "stream",
     "text": [
      "[2017-09-07 02:32:56,273] Starting new video recorder writing to /home/kj/TestCodes/MyTrial/DQN/DQN/Gym_stats/Reacher-v1/epsilon/sparsebellman/low/midlarge/0001/openaigym.video.8.31439.video009910.mp4\n",
      "[2017-09-07 02:32:58,201] Starting new video recorder writing to /home/kj/TestCodes/MyTrial/DQN/DQN/Gym_stats/Reacher-v1/epsilon/sparsebellman/low/midlarge/0001/openaigym.video.8.31439.video009920.mp4\n",
      "[2017-09-07 02:33:00,075] Starting new video recorder writing to /home/kj/TestCodes/MyTrial/DQN/DQN/Gym_stats/Reacher-v1/epsilon/sparsebellman/low/midlarge/0001/openaigym.video.8.31439.video009930.mp4\n",
      "[2017-09-07 02:33:01,941] Starting new video recorder writing to /home/kj/TestCodes/MyTrial/DQN/DQN/Gym_stats/Reacher-v1/epsilon/sparsebellman/low/midlarge/0001/openaigym.video.8.31439.video009940.mp4\n",
      "[2017-09-07 02:33:03,760] Starting new video recorder writing to /home/kj/TestCodes/MyTrial/DQN/DQN/Gym_stats/Reacher-v1/epsilon/sparsebellman/low/midlarge/0001/openaigym.video.8.31439.video009950.mp4\n",
      "[2017-09-07 02:33:05,614] Starting new video recorder writing to /home/kj/TestCodes/MyTrial/DQN/DQN/Gym_stats/Reacher-v1/epsilon/sparsebellman/low/midlarge/0001/openaigym.video.8.31439.video009960.mp4\n",
      "[2017-09-07 02:33:07,492] Starting new video recorder writing to /home/kj/TestCodes/MyTrial/DQN/DQN/Gym_stats/Reacher-v1/epsilon/sparsebellman/low/midlarge/0001/openaigym.video.8.31439.video009970.mp4\n",
      "[2017-09-07 02:33:09,329] Starting new video recorder writing to /home/kj/TestCodes/MyTrial/DQN/DQN/Gym_stats/Reacher-v1/epsilon/sparsebellman/low/midlarge/0001/openaigym.video.8.31439.video009980.mp4\n",
      "[2017-09-07 02:33:11,187] Starting new video recorder writing to /home/kj/TestCodes/MyTrial/DQN/DQN/Gym_stats/Reacher-v1/epsilon/sparsebellman/low/midlarge/0001/openaigym.video.8.31439.video009990.mp4\n",
      "[2017-09-07 02:33:13,129] Finished writing results. You can upload them to the scoreboard via gym.upload('/home/kj/TestCodes/MyTrial/DQN/DQN/Gym_stats/Reacher-v1/epsilon/sparsebellman/low/midlarge/0001')\n"
     ]
    },
    {
     "name": "stdout",
     "output_type": "stream",
     "text": [
      "Final mean reward, averaged over 1 experiment: -5.64726021963 (std = 0.0).\n",
      "Average episode duration: 143.361211 ms\n",
      "Average final reward: -5.66 (std=2.55).\n",
      "\n",
      "The 100-episode moving average reached -3.5 after 0 episodes.\n",
      "Problem: Reacher-v1, Actions: 961, Temp: 0.1, Strategy: epsilon, Backup: softbellman\n"
     ]
    },
    {
     "name": "stderr",
     "output_type": "stream",
     "text": [
      "[2017-09-07 02:33:23,935] Making new env: Reacher-v1\n",
      "[2017-09-07 02:33:23,941] Making new env: Reacher-v1\n"
     ]
    },
    {
     "name": "stdout",
     "output_type": "stream",
     "text": [
      "\n",
      "EXECUTING EXPERIMENT 0 OF 1 IN ENVIRONMENT Reacher-v1.\n"
     ]
    },
    {
     "name": "stderr",
     "output_type": "stream",
     "text": [
      "[2017-09-07 02:56:53,696] Starting new video recorder writing to /home/kj/TestCodes/MyTrial/DQN/DQN/Gym_stats/Reacher-v1/epsilon/softbellman/mid/midlarge/0001/openaigym.video.9.31439.video009910.mp4\n",
      "[2017-09-07 02:56:55,606] Starting new video recorder writing to /home/kj/TestCodes/MyTrial/DQN/DQN/Gym_stats/Reacher-v1/epsilon/softbellman/mid/midlarge/0001/openaigym.video.9.31439.video009920.mp4\n",
      "[2017-09-07 02:56:57,453] Starting new video recorder writing to /home/kj/TestCodes/MyTrial/DQN/DQN/Gym_stats/Reacher-v1/epsilon/softbellman/mid/midlarge/0001/openaigym.video.9.31439.video009930.mp4\n",
      "[2017-09-07 02:56:59,311] Starting new video recorder writing to /home/kj/TestCodes/MyTrial/DQN/DQN/Gym_stats/Reacher-v1/epsilon/softbellman/mid/midlarge/0001/openaigym.video.9.31439.video009940.mp4\n",
      "[2017-09-07 02:57:01,148] Starting new video recorder writing to /home/kj/TestCodes/MyTrial/DQN/DQN/Gym_stats/Reacher-v1/epsilon/softbellman/mid/midlarge/0001/openaigym.video.9.31439.video009950.mp4\n",
      "[2017-09-07 02:57:03,001] Starting new video recorder writing to /home/kj/TestCodes/MyTrial/DQN/DQN/Gym_stats/Reacher-v1/epsilon/softbellman/mid/midlarge/0001/openaigym.video.9.31439.video009960.mp4\n",
      "[2017-09-07 02:57:04,854] Starting new video recorder writing to /home/kj/TestCodes/MyTrial/DQN/DQN/Gym_stats/Reacher-v1/epsilon/softbellman/mid/midlarge/0001/openaigym.video.9.31439.video009970.mp4\n",
      "[2017-09-07 02:57:06,710] Starting new video recorder writing to /home/kj/TestCodes/MyTrial/DQN/DQN/Gym_stats/Reacher-v1/epsilon/softbellman/mid/midlarge/0001/openaigym.video.9.31439.video009980.mp4\n",
      "[2017-09-07 02:57:08,548] Starting new video recorder writing to /home/kj/TestCodes/MyTrial/DQN/DQN/Gym_stats/Reacher-v1/epsilon/softbellman/mid/midlarge/0001/openaigym.video.9.31439.video009990.mp4\n",
      "[2017-09-07 02:57:10,578] Finished writing results. You can upload them to the scoreboard via gym.upload('/home/kj/TestCodes/MyTrial/DQN/DQN/Gym_stats/Reacher-v1/epsilon/softbellman/mid/midlarge/0001')\n"
     ]
    },
    {
     "name": "stdout",
     "output_type": "stream",
     "text": [
      "Final mean reward, averaged over 1 experiment: -6.02783105061 (std = 0.0).\n",
      "Average episode duration: 142.566411 ms\n",
      "Average final reward: -6.04 (std=2.85).\n",
      "\n",
      "The 100-episode moving average reached -3.5 after 0 episodes.\n",
      "Problem: Reacher-v1, Actions: 121, Temp: 0.1, Strategy: sparsemax, Backup: bellman\n"
     ]
    },
    {
     "name": "stderr",
     "output_type": "stream",
     "text": [
      "[2017-09-07 02:57:21,523] Making new env: Reacher-v1\n",
      "[2017-09-07 02:57:21,529] Making new env: Reacher-v1\n"
     ]
    },
    {
     "name": "stdout",
     "output_type": "stream",
     "text": [
      "\n",
      "EXECUTING EXPERIMENT 0 OF 1 IN ENVIRONMENT Reacher-v1.\n"
     ]
    },
    {
     "name": "stderr",
     "output_type": "stream",
     "text": [
      "[2017-09-07 03:23:56,164] Starting new video recorder writing to /home/kj/TestCodes/MyTrial/DQN/DQN/Gym_stats/Reacher-v1/sparsemax/bellman/mid/midsmall/0001/openaigym.video.10.31439.video009910.mp4\n",
      "[2017-09-07 03:23:58,271] Starting new video recorder writing to /home/kj/TestCodes/MyTrial/DQN/DQN/Gym_stats/Reacher-v1/sparsemax/bellman/mid/midsmall/0001/openaigym.video.10.31439.video009920.mp4\n",
      "[2017-09-07 03:24:00,319] Starting new video recorder writing to /home/kj/TestCodes/MyTrial/DQN/DQN/Gym_stats/Reacher-v1/sparsemax/bellman/mid/midsmall/0001/openaigym.video.10.31439.video009930.mp4\n",
      "[2017-09-07 03:24:02,366] Starting new video recorder writing to /home/kj/TestCodes/MyTrial/DQN/DQN/Gym_stats/Reacher-v1/sparsemax/bellman/mid/midsmall/0001/openaigym.video.10.31439.video009940.mp4\n",
      "[2017-09-07 03:24:04,392] Starting new video recorder writing to /home/kj/TestCodes/MyTrial/DQN/DQN/Gym_stats/Reacher-v1/sparsemax/bellman/mid/midsmall/0001/openaigym.video.10.31439.video009950.mp4\n",
      "[2017-09-07 03:24:06,446] Starting new video recorder writing to /home/kj/TestCodes/MyTrial/DQN/DQN/Gym_stats/Reacher-v1/sparsemax/bellman/mid/midsmall/0001/openaigym.video.10.31439.video009960.mp4\n",
      "[2017-09-07 03:24:08,506] Starting new video recorder writing to /home/kj/TestCodes/MyTrial/DQN/DQN/Gym_stats/Reacher-v1/sparsemax/bellman/mid/midsmall/0001/openaigym.video.10.31439.video009970.mp4\n",
      "[2017-09-07 03:24:10,560] Starting new video recorder writing to /home/kj/TestCodes/MyTrial/DQN/DQN/Gym_stats/Reacher-v1/sparsemax/bellman/mid/midsmall/0001/openaigym.video.10.31439.video009980.mp4\n",
      "[2017-09-07 03:24:12,608] Starting new video recorder writing to /home/kj/TestCodes/MyTrial/DQN/DQN/Gym_stats/Reacher-v1/sparsemax/bellman/mid/midsmall/0001/openaigym.video.10.31439.video009990.mp4\n",
      "[2017-09-07 03:24:14,755] Finished writing results. You can upload them to the scoreboard via gym.upload('/home/kj/TestCodes/MyTrial/DQN/DQN/Gym_stats/Reacher-v1/sparsemax/bellman/mid/midsmall/0001')\n"
     ]
    },
    {
     "name": "stdout",
     "output_type": "stream",
     "text": [
      "Final mean reward, averaged over 1 experiment: -5.77871992114 (std = 0.0).\n",
      "Average episode duration: 161.223240 ms\n",
      "Average final reward: -5.80 (std=2.42).\n",
      "\n",
      "The 100-episode moving average reached -3.5 after 0 episodes.\n",
      "Problem: Reacher-v1, Actions: 121, Temp: 0.1, Strategy: sparsemax, Backup: sparsebellman\n"
     ]
    },
    {
     "name": "stderr",
     "output_type": "stream",
     "text": [
      "[2017-09-07 03:24:25,465] Making new env: Reacher-v1\n",
      "[2017-09-07 03:24:25,471] Making new env: Reacher-v1\n"
     ]
    },
    {
     "name": "stdout",
     "output_type": "stream",
     "text": [
      "\n",
      "EXECUTING EXPERIMENT 0 OF 1 IN ENVIRONMENT Reacher-v1.\n"
     ]
    },
    {
     "name": "stderr",
     "output_type": "stream",
     "text": [
      "[2017-09-07 03:50:57,197] Starting new video recorder writing to /home/kj/TestCodes/MyTrial/DQN/DQN/Gym_stats/Reacher-v1/sparsemax/sparsebellman/mid/midsmall/0001/openaigym.video.11.31439.video009910.mp4\n",
      "[2017-09-07 03:50:59,333] Starting new video recorder writing to /home/kj/TestCodes/MyTrial/DQN/DQN/Gym_stats/Reacher-v1/sparsemax/sparsebellman/mid/midsmall/0001/openaigym.video.11.31439.video009920.mp4\n",
      "[2017-09-07 03:51:01,359] Starting new video recorder writing to /home/kj/TestCodes/MyTrial/DQN/DQN/Gym_stats/Reacher-v1/sparsemax/sparsebellman/mid/midsmall/0001/openaigym.video.11.31439.video009930.mp4\n",
      "[2017-09-07 03:51:03,406] Starting new video recorder writing to /home/kj/TestCodes/MyTrial/DQN/DQN/Gym_stats/Reacher-v1/sparsemax/sparsebellman/mid/midsmall/0001/openaigym.video.11.31439.video009940.mp4\n",
      "[2017-09-07 03:51:05,461] Starting new video recorder writing to /home/kj/TestCodes/MyTrial/DQN/DQN/Gym_stats/Reacher-v1/sparsemax/sparsebellman/mid/midsmall/0001/openaigym.video.11.31439.video009950.mp4\n",
      "[2017-09-07 03:51:07,486] Starting new video recorder writing to /home/kj/TestCodes/MyTrial/DQN/DQN/Gym_stats/Reacher-v1/sparsemax/sparsebellman/mid/midsmall/0001/openaigym.video.11.31439.video009960.mp4\n",
      "[2017-09-07 03:51:09,525] Starting new video recorder writing to /home/kj/TestCodes/MyTrial/DQN/DQN/Gym_stats/Reacher-v1/sparsemax/sparsebellman/mid/midsmall/0001/openaigym.video.11.31439.video009970.mp4\n",
      "[2017-09-07 03:51:11,556] Starting new video recorder writing to /home/kj/TestCodes/MyTrial/DQN/DQN/Gym_stats/Reacher-v1/sparsemax/sparsebellman/mid/midsmall/0001/openaigym.video.11.31439.video009980.mp4\n",
      "[2017-09-07 03:51:13,597] Starting new video recorder writing to /home/kj/TestCodes/MyTrial/DQN/DQN/Gym_stats/Reacher-v1/sparsemax/sparsebellman/mid/midsmall/0001/openaigym.video.11.31439.video009990.mp4\n",
      "[2017-09-07 03:51:15,699] Finished writing results. You can upload them to the scoreboard via gym.upload('/home/kj/TestCodes/MyTrial/DQN/DQN/Gym_stats/Reacher-v1/sparsemax/sparsebellman/mid/midsmall/0001')\n"
     ]
    },
    {
     "name": "stdout",
     "output_type": "stream",
     "text": [
      "Final mean reward, averaged over 1 experiment: -5.68305566968 (std = 0.0).\n",
      "Average episode duration: 160.934607 ms\n",
      "Average final reward: -5.70 (std=2.23).\n",
      "\n",
      "The 100-episode moving average reached -3.5 after 0 episodes.\n",
      "Problem: Reacher-v1, Actions: 121, Temp: 1, Strategy: epsilon, Backup: softbellman\n"
     ]
    },
    {
     "name": "stderr",
     "output_type": "stream",
     "text": [
      "[2017-09-07 03:51:26,640] Making new env: Reacher-v1\n",
      "[2017-09-07 03:51:26,645] Making new env: Reacher-v1\n"
     ]
    },
    {
     "name": "stdout",
     "output_type": "stream",
     "text": [
      "\n",
      "EXECUTING EXPERIMENT 0 OF 1 IN ENVIRONMENT Reacher-v1.\n"
     ]
    },
    {
     "name": "stderr",
     "output_type": "stream",
     "text": [
      "[2017-09-07 04:11:57,153] Starting new video recorder writing to /home/kj/TestCodes/MyTrial/DQN/DQN/Gym_stats/Reacher-v1/epsilon/softbellman/high/midsmall/0001/openaigym.video.12.31439.video009910.mp4\n",
      "[2017-09-07 04:11:58,877] Starting new video recorder writing to /home/kj/TestCodes/MyTrial/DQN/DQN/Gym_stats/Reacher-v1/epsilon/softbellman/high/midsmall/0001/openaigym.video.12.31439.video009920.mp4\n",
      "[2017-09-07 04:12:00,539] Starting new video recorder writing to /home/kj/TestCodes/MyTrial/DQN/DQN/Gym_stats/Reacher-v1/epsilon/softbellman/high/midsmall/0001/openaigym.video.12.31439.video009930.mp4\n",
      "[2017-09-07 04:12:02,198] Starting new video recorder writing to /home/kj/TestCodes/MyTrial/DQN/DQN/Gym_stats/Reacher-v1/epsilon/softbellman/high/midsmall/0001/openaigym.video.12.31439.video009940.mp4\n",
      "[2017-09-07 04:12:03,867] Starting new video recorder writing to /home/kj/TestCodes/MyTrial/DQN/DQN/Gym_stats/Reacher-v1/epsilon/softbellman/high/midsmall/0001/openaigym.video.12.31439.video009950.mp4\n",
      "[2017-09-07 04:12:05,545] Starting new video recorder writing to /home/kj/TestCodes/MyTrial/DQN/DQN/Gym_stats/Reacher-v1/epsilon/softbellman/high/midsmall/0001/openaigym.video.12.31439.video009960.mp4\n",
      "[2017-09-07 04:12:07,197] Starting new video recorder writing to /home/kj/TestCodes/MyTrial/DQN/DQN/Gym_stats/Reacher-v1/epsilon/softbellman/high/midsmall/0001/openaigym.video.12.31439.video009970.mp4\n",
      "[2017-09-07 04:12:08,859] Starting new video recorder writing to /home/kj/TestCodes/MyTrial/DQN/DQN/Gym_stats/Reacher-v1/epsilon/softbellman/high/midsmall/0001/openaigym.video.12.31439.video009980.mp4\n",
      "[2017-09-07 04:12:10,546] Starting new video recorder writing to /home/kj/TestCodes/MyTrial/DQN/DQN/Gym_stats/Reacher-v1/epsilon/softbellman/high/midsmall/0001/openaigym.video.12.31439.video009990.mp4\n",
      "[2017-09-07 04:12:12,290] Finished writing results. You can upload them to the scoreboard via gym.upload('/home/kj/TestCodes/MyTrial/DQN/DQN/Gym_stats/Reacher-v1/epsilon/softbellman/high/midsmall/0001')\n"
     ]
    },
    {
     "name": "stdout",
     "output_type": "stream",
     "text": [
      "Final mean reward, averaged over 1 experiment: -6.19713825597 (std = 0.0).\n",
      "Average episode duration: 124.466678 ms\n",
      "Average final reward: -6.23 (std=3.05).\n",
      "\n",
      "The 100-episode moving average reached -3.5 after 0 episodes.\n",
      "Problem: Reacher-v1, Actions: 121, Temp: 0.01, Strategy: epsilon, Backup: sparsebellman\n"
     ]
    },
    {
     "name": "stderr",
     "output_type": "stream",
     "text": [
      "[2017-09-07 04:12:23,312] Making new env: Reacher-v1\n",
      "[2017-09-07 04:12:23,317] Making new env: Reacher-v1\n"
     ]
    },
    {
     "name": "stdout",
     "output_type": "stream",
     "text": [
      "\n",
      "EXECUTING EXPERIMENT 0 OF 1 IN ENVIRONMENT Reacher-v1.\n"
     ]
    },
    {
     "name": "stderr",
     "output_type": "stream",
     "text": [
      "[2017-09-07 04:32:52,211] Starting new video recorder writing to /home/kj/TestCodes/MyTrial/DQN/DQN/Gym_stats/Reacher-v1/epsilon/sparsebellman/low/midsmall/0001/openaigym.video.13.31439.video009910.mp4\n",
      "[2017-09-07 04:32:53,927] Starting new video recorder writing to /home/kj/TestCodes/MyTrial/DQN/DQN/Gym_stats/Reacher-v1/epsilon/sparsebellman/low/midsmall/0001/openaigym.video.13.31439.video009920.mp4\n",
      "[2017-09-07 04:32:55,581] Starting new video recorder writing to /home/kj/TestCodes/MyTrial/DQN/DQN/Gym_stats/Reacher-v1/epsilon/sparsebellman/low/midsmall/0001/openaigym.video.13.31439.video009930.mp4\n",
      "[2017-09-07 04:32:57,250] Starting new video recorder writing to /home/kj/TestCodes/MyTrial/DQN/DQN/Gym_stats/Reacher-v1/epsilon/sparsebellman/low/midsmall/0001/openaigym.video.13.31439.video009940.mp4\n",
      "[2017-09-07 04:32:58,926] Starting new video recorder writing to /home/kj/TestCodes/MyTrial/DQN/DQN/Gym_stats/Reacher-v1/epsilon/sparsebellman/low/midsmall/0001/openaigym.video.13.31439.video009950.mp4\n",
      "[2017-09-07 04:33:00,597] Starting new video recorder writing to /home/kj/TestCodes/MyTrial/DQN/DQN/Gym_stats/Reacher-v1/epsilon/sparsebellman/low/midsmall/0001/openaigym.video.13.31439.video009960.mp4\n",
      "[2017-09-07 04:33:02,275] Starting new video recorder writing to /home/kj/TestCodes/MyTrial/DQN/DQN/Gym_stats/Reacher-v1/epsilon/sparsebellman/low/midsmall/0001/openaigym.video.13.31439.video009970.mp4\n",
      "[2017-09-07 04:33:03,939] Starting new video recorder writing to /home/kj/TestCodes/MyTrial/DQN/DQN/Gym_stats/Reacher-v1/epsilon/sparsebellman/low/midsmall/0001/openaigym.video.13.31439.video009980.mp4\n",
      "[2017-09-07 04:33:05,619] Starting new video recorder writing to /home/kj/TestCodes/MyTrial/DQN/DQN/Gym_stats/Reacher-v1/epsilon/sparsebellman/low/midsmall/0001/openaigym.video.13.31439.video009990.mp4\n",
      "[2017-09-07 04:33:07,378] Finished writing results. You can upload them to the scoreboard via gym.upload('/home/kj/TestCodes/MyTrial/DQN/DQN/Gym_stats/Reacher-v1/epsilon/sparsebellman/low/midsmall/0001')\n"
     ]
    },
    {
     "name": "stdout",
     "output_type": "stream",
     "text": [
      "Final mean reward, averaged over 1 experiment: -6.6099039788 (std = 0.0).\n",
      "Average episode duration: 124.317266 ms\n",
      "Average final reward: -6.62 (std=2.81).\n",
      "\n",
      "The 100-episode moving average reached -3.5 after 0 episodes.\n",
      "Problem: Reacher-v1, Actions: 121, Temp: 0.1, Strategy: epsilon, Backup: softbellman\n"
     ]
    },
    {
     "name": "stderr",
     "output_type": "stream",
     "text": [
      "[2017-09-07 04:33:18,364] Making new env: Reacher-v1\n",
      "[2017-09-07 04:33:18,368] Making new env: Reacher-v1\n"
     ]
    },
    {
     "name": "stdout",
     "output_type": "stream",
     "text": [
      "\n",
      "EXECUTING EXPERIMENT 0 OF 1 IN ENVIRONMENT Reacher-v1.\n"
     ]
    },
    {
     "name": "stderr",
     "output_type": "stream",
     "text": [
      "[2017-09-07 04:53:50,313] Starting new video recorder writing to /home/kj/TestCodes/MyTrial/DQN/DQN/Gym_stats/Reacher-v1/epsilon/softbellman/mid/midsmall/0001/openaigym.video.14.31439.video009910.mp4\n",
      "[2017-09-07 04:53:52,051] Starting new video recorder writing to /home/kj/TestCodes/MyTrial/DQN/DQN/Gym_stats/Reacher-v1/epsilon/softbellman/mid/midsmall/0001/openaigym.video.14.31439.video009920.mp4\n",
      "[2017-09-07 04:53:53,712] Starting new video recorder writing to /home/kj/TestCodes/MyTrial/DQN/DQN/Gym_stats/Reacher-v1/epsilon/softbellman/mid/midsmall/0001/openaigym.video.14.31439.video009930.mp4\n",
      "[2017-09-07 04:53:55,402] Starting new video recorder writing to /home/kj/TestCodes/MyTrial/DQN/DQN/Gym_stats/Reacher-v1/epsilon/softbellman/mid/midsmall/0001/openaigym.video.14.31439.video009940.mp4\n",
      "[2017-09-07 04:53:57,081] Starting new video recorder writing to /home/kj/TestCodes/MyTrial/DQN/DQN/Gym_stats/Reacher-v1/epsilon/softbellman/mid/midsmall/0001/openaigym.video.14.31439.video009950.mp4\n",
      "[2017-09-07 04:53:58,751] Starting new video recorder writing to /home/kj/TestCodes/MyTrial/DQN/DQN/Gym_stats/Reacher-v1/epsilon/softbellman/mid/midsmall/0001/openaigym.video.14.31439.video009960.mp4\n",
      "[2017-09-07 04:54:00,423] Starting new video recorder writing to /home/kj/TestCodes/MyTrial/DQN/DQN/Gym_stats/Reacher-v1/epsilon/softbellman/mid/midsmall/0001/openaigym.video.14.31439.video009970.mp4\n",
      "[2017-09-07 04:54:02,088] Starting new video recorder writing to /home/kj/TestCodes/MyTrial/DQN/DQN/Gym_stats/Reacher-v1/epsilon/softbellman/mid/midsmall/0001/openaigym.video.14.31439.video009980.mp4\n",
      "[2017-09-07 04:54:03,750] Starting new video recorder writing to /home/kj/TestCodes/MyTrial/DQN/DQN/Gym_stats/Reacher-v1/epsilon/softbellman/mid/midsmall/0001/openaigym.video.14.31439.video009990.mp4\n",
      "[2017-09-07 04:54:05,499] Finished writing results. You can upload them to the scoreboard via gym.upload('/home/kj/TestCodes/MyTrial/DQN/DQN/Gym_stats/Reacher-v1/epsilon/softbellman/mid/midsmall/0001')\n"
     ]
    },
    {
     "name": "stdout",
     "output_type": "stream",
     "text": [
      "Final mean reward, averaged over 1 experiment: -6.17070591759 (std = 0.0).\n",
      "Average episode duration: 124.616275 ms\n",
      "Average final reward: -6.18 (std=2.88).\n",
      "\n",
      "The 100-episode moving average reached -3.5 after 0 episodes.\n",
      "Problem: Reacher-v1, Actions: 9, Temp: 0.1, Strategy: sparsemax, Backup: bellman\n"
     ]
    },
    {
     "name": "stderr",
     "output_type": "stream",
     "text": [
      "[2017-09-07 04:54:16,530] Making new env: Reacher-v1\n",
      "[2017-09-07 04:54:16,534] Making new env: Reacher-v1\n"
     ]
    },
    {
     "name": "stdout",
     "output_type": "stream",
     "text": [
      "\n",
      "EXECUTING EXPERIMENT 0 OF 1 IN ENVIRONMENT Reacher-v1.\n"
     ]
    },
    {
     "name": "stderr",
     "output_type": "stream",
     "text": [
      "[2017-09-07 05:15:25,899] Starting new video recorder writing to /home/kj/TestCodes/MyTrial/DQN/DQN/Gym_stats/Reacher-v1/sparsemax/bellman/mid/small/0001/openaigym.video.15.31439.video009910.mp4\n",
      "[2017-09-07 05:15:27,686] Starting new video recorder writing to /home/kj/TestCodes/MyTrial/DQN/DQN/Gym_stats/Reacher-v1/sparsemax/bellman/mid/small/0001/openaigym.video.15.31439.video009920.mp4\n",
      "[2017-09-07 05:15:29,401] Starting new video recorder writing to /home/kj/TestCodes/MyTrial/DQN/DQN/Gym_stats/Reacher-v1/sparsemax/bellman/mid/small/0001/openaigym.video.15.31439.video009930.mp4\n",
      "[2017-09-07 05:15:31,114] Starting new video recorder writing to /home/kj/TestCodes/MyTrial/DQN/DQN/Gym_stats/Reacher-v1/sparsemax/bellman/mid/small/0001/openaigym.video.15.31439.video009940.mp4\n",
      "[2017-09-07 05:15:32,848] Starting new video recorder writing to /home/kj/TestCodes/MyTrial/DQN/DQN/Gym_stats/Reacher-v1/sparsemax/bellman/mid/small/0001/openaigym.video.15.31439.video009950.mp4\n",
      "[2017-09-07 05:15:34,586] Starting new video recorder writing to /home/kj/TestCodes/MyTrial/DQN/DQN/Gym_stats/Reacher-v1/sparsemax/bellman/mid/small/0001/openaigym.video.15.31439.video009960.mp4\n",
      "[2017-09-07 05:15:36,293] Starting new video recorder writing to /home/kj/TestCodes/MyTrial/DQN/DQN/Gym_stats/Reacher-v1/sparsemax/bellman/mid/small/0001/openaigym.video.15.31439.video009970.mp4\n",
      "[2017-09-07 05:15:38,030] Starting new video recorder writing to /home/kj/TestCodes/MyTrial/DQN/DQN/Gym_stats/Reacher-v1/sparsemax/bellman/mid/small/0001/openaigym.video.15.31439.video009980.mp4\n",
      "[2017-09-07 05:15:39,756] Starting new video recorder writing to /home/kj/TestCodes/MyTrial/DQN/DQN/Gym_stats/Reacher-v1/sparsemax/bellman/mid/small/0001/openaigym.video.15.31439.video009990.mp4\n",
      "[2017-09-07 05:15:41,595] Finished writing results. You can upload them to the scoreboard via gym.upload('/home/kj/TestCodes/MyTrial/DQN/DQN/Gym_stats/Reacher-v1/sparsemax/bellman/mid/small/0001')\n"
     ]
    },
    {
     "name": "stdout",
     "output_type": "stream",
     "text": [
      "Final mean reward, averaged over 1 experiment: -10.2186952894 (std = 0.0).\n",
      "Average episode duration: 128.418059 ms\n",
      "Average final reward: -10.24 (std=4.02).\n",
      "\n",
      "The 100-episode moving average reached -3.5 after 0 episodes.\n",
      "Problem: Reacher-v1, Actions: 9, Temp: 0.1, Strategy: sparsemax, Backup: sparsebellman\n"
     ]
    },
    {
     "name": "stderr",
     "output_type": "stream",
     "text": [
      "[2017-09-07 05:15:52,720] Making new env: Reacher-v1\n",
      "[2017-09-07 05:15:52,725] Making new env: Reacher-v1\n"
     ]
    },
    {
     "name": "stdout",
     "output_type": "stream",
     "text": [
      "\n",
      "EXECUTING EXPERIMENT 0 OF 1 IN ENVIRONMENT Reacher-v1.\n"
     ]
    },
    {
     "name": "stderr",
     "output_type": "stream",
     "text": [
      "[2017-09-07 05:37:00,518] Starting new video recorder writing to /home/kj/TestCodes/MyTrial/DQN/DQN/Gym_stats/Reacher-v1/sparsemax/sparsebellman/mid/small/0001/openaigym.video.16.31439.video009910.mp4\n",
      "[2017-09-07 05:37:02,292] Starting new video recorder writing to /home/kj/TestCodes/MyTrial/DQN/DQN/Gym_stats/Reacher-v1/sparsemax/sparsebellman/mid/small/0001/openaigym.video.16.31439.video009920.mp4\n",
      "[2017-09-07 05:37:03,989] Starting new video recorder writing to /home/kj/TestCodes/MyTrial/DQN/DQN/Gym_stats/Reacher-v1/sparsemax/sparsebellman/mid/small/0001/openaigym.video.16.31439.video009930.mp4\n",
      "[2017-09-07 05:37:05,675] Starting new video recorder writing to /home/kj/TestCodes/MyTrial/DQN/DQN/Gym_stats/Reacher-v1/sparsemax/sparsebellman/mid/small/0001/openaigym.video.16.31439.video009940.mp4\n",
      "[2017-09-07 05:37:07,393] Starting new video recorder writing to /home/kj/TestCodes/MyTrial/DQN/DQN/Gym_stats/Reacher-v1/sparsemax/sparsebellman/mid/small/0001/openaigym.video.16.31439.video009950.mp4\n",
      "[2017-09-07 05:37:09,119] Starting new video recorder writing to /home/kj/TestCodes/MyTrial/DQN/DQN/Gym_stats/Reacher-v1/sparsemax/sparsebellman/mid/small/0001/openaigym.video.16.31439.video009960.mp4\n",
      "[2017-09-07 05:37:10,819] Starting new video recorder writing to /home/kj/TestCodes/MyTrial/DQN/DQN/Gym_stats/Reacher-v1/sparsemax/sparsebellman/mid/small/0001/openaigym.video.16.31439.video009970.mp4\n",
      "[2017-09-07 05:37:12,512] Starting new video recorder writing to /home/kj/TestCodes/MyTrial/DQN/DQN/Gym_stats/Reacher-v1/sparsemax/sparsebellman/mid/small/0001/openaigym.video.16.31439.video009980.mp4\n",
      "[2017-09-07 05:37:14,180] Starting new video recorder writing to /home/kj/TestCodes/MyTrial/DQN/DQN/Gym_stats/Reacher-v1/sparsemax/sparsebellman/mid/small/0001/openaigym.video.16.31439.video009990.mp4\n",
      "[2017-09-07 05:37:15,940] Finished writing results. You can upload them to the scoreboard via gym.upload('/home/kj/TestCodes/MyTrial/DQN/DQN/Gym_stats/Reacher-v1/sparsemax/sparsebellman/mid/small/0001')\n"
     ]
    },
    {
     "name": "stdout",
     "output_type": "stream",
     "text": [
      "Final mean reward, averaged over 1 experiment: -11.3668066897 (std = 0.0).\n",
      "Average episode duration: 128.223644 ms\n",
      "Average final reward: -11.40 (std=5.13).\n",
      "\n",
      "The 100-episode moving average reached -3.5 after 0 episodes.\n",
      "Problem: Reacher-v1, Actions: 9, Temp: 1, Strategy: epsilon, Backup: softbellman\n"
     ]
    },
    {
     "name": "stderr",
     "output_type": "stream",
     "text": [
      "[2017-09-07 05:37:26,906] Making new env: Reacher-v1\n",
      "[2017-09-07 05:37:26,911] Making new env: Reacher-v1\n"
     ]
    },
    {
     "name": "stdout",
     "output_type": "stream",
     "text": [
      "\n",
      "EXECUTING EXPERIMENT 0 OF 1 IN ENVIRONMENT Reacher-v1.\n"
     ]
    },
    {
     "name": "stderr",
     "output_type": "stream",
     "text": [
      "[2017-09-07 05:57:39,642] Starting new video recorder writing to /home/kj/TestCodes/MyTrial/DQN/DQN/Gym_stats/Reacher-v1/epsilon/softbellman/high/small/0001/openaigym.video.17.31439.video009910.mp4\n",
      "[2017-09-07 05:57:41,338] Starting new video recorder writing to /home/kj/TestCodes/MyTrial/DQN/DQN/Gym_stats/Reacher-v1/epsilon/softbellman/high/small/0001/openaigym.video.17.31439.video009920.mp4\n",
      "[2017-09-07 05:57:42,989] Starting new video recorder writing to /home/kj/TestCodes/MyTrial/DQN/DQN/Gym_stats/Reacher-v1/epsilon/softbellman/high/small/0001/openaigym.video.17.31439.video009930.mp4\n",
      "[2017-09-07 05:57:44,622] Starting new video recorder writing to /home/kj/TestCodes/MyTrial/DQN/DQN/Gym_stats/Reacher-v1/epsilon/softbellman/high/small/0001/openaigym.video.17.31439.video009940.mp4\n",
      "[2017-09-07 05:57:46,247] Starting new video recorder writing to /home/kj/TestCodes/MyTrial/DQN/DQN/Gym_stats/Reacher-v1/epsilon/softbellman/high/small/0001/openaigym.video.17.31439.video009950.mp4\n",
      "[2017-09-07 05:57:47,912] Starting new video recorder writing to /home/kj/TestCodes/MyTrial/DQN/DQN/Gym_stats/Reacher-v1/epsilon/softbellman/high/small/0001/openaigym.video.17.31439.video009960.mp4\n",
      "[2017-09-07 05:57:49,562] Starting new video recorder writing to /home/kj/TestCodes/MyTrial/DQN/DQN/Gym_stats/Reacher-v1/epsilon/softbellman/high/small/0001/openaigym.video.17.31439.video009970.mp4\n",
      "[2017-09-07 05:57:51,187] Starting new video recorder writing to /home/kj/TestCodes/MyTrial/DQN/DQN/Gym_stats/Reacher-v1/epsilon/softbellman/high/small/0001/openaigym.video.17.31439.video009980.mp4\n",
      "[2017-09-07 05:57:52,836] Starting new video recorder writing to /home/kj/TestCodes/MyTrial/DQN/DQN/Gym_stats/Reacher-v1/epsilon/softbellman/high/small/0001/openaigym.video.17.31439.video009990.mp4\n",
      "[2017-09-07 05:57:54,552] Finished writing results. You can upload them to the scoreboard via gym.upload('/home/kj/TestCodes/MyTrial/DQN/DQN/Gym_stats/Reacher-v1/epsilon/softbellman/high/small/0001')\n"
     ]
    },
    {
     "name": "stdout",
     "output_type": "stream",
     "text": [
      "Final mean reward, averaged over 1 experiment: -11.8489297419 (std = 0.0).\n",
      "Average episode duration: 122.672380 ms\n",
      "Average final reward: -11.88 (std=7.24).\n",
      "\n",
      "The 100-episode moving average reached -3.5 after 0 episodes.\n",
      "Problem: Reacher-v1, Actions: 9, Temp: 0.01, Strategy: epsilon, Backup: sparsebellman\n"
     ]
    },
    {
     "name": "stderr",
     "output_type": "stream",
     "text": [
      "[2017-09-07 05:58:05,567] Making new env: Reacher-v1\n",
      "[2017-09-07 05:58:05,572] Making new env: Reacher-v1\n"
     ]
    },
    {
     "name": "stdout",
     "output_type": "stream",
     "text": [
      "\n",
      "EXECUTING EXPERIMENT 0 OF 1 IN ENVIRONMENT Reacher-v1.\n"
     ]
    },
    {
     "name": "stderr",
     "output_type": "stream",
     "text": [
      "[2017-09-07 06:18:09,447] Starting new video recorder writing to /home/kj/TestCodes/MyTrial/DQN/DQN/Gym_stats/Reacher-v1/epsilon/sparsebellman/low/small/0001/openaigym.video.18.31439.video009910.mp4\n",
      "[2017-09-07 06:18:11,169] Starting new video recorder writing to /home/kj/TestCodes/MyTrial/DQN/DQN/Gym_stats/Reacher-v1/epsilon/sparsebellman/low/small/0001/openaigym.video.18.31439.video009920.mp4\n",
      "[2017-09-07 06:18:12,802] Starting new video recorder writing to /home/kj/TestCodes/MyTrial/DQN/DQN/Gym_stats/Reacher-v1/epsilon/sparsebellman/low/small/0001/openaigym.video.18.31439.video009930.mp4\n",
      "[2017-09-07 06:18:14,459] Starting new video recorder writing to /home/kj/TestCodes/MyTrial/DQN/DQN/Gym_stats/Reacher-v1/epsilon/sparsebellman/low/small/0001/openaigym.video.18.31439.video009940.mp4\n",
      "[2017-09-07 06:18:16,100] Starting new video recorder writing to /home/kj/TestCodes/MyTrial/DQN/DQN/Gym_stats/Reacher-v1/epsilon/sparsebellman/low/small/0001/openaigym.video.18.31439.video009950.mp4\n",
      "[2017-09-07 06:18:17,734] Starting new video recorder writing to /home/kj/TestCodes/MyTrial/DQN/DQN/Gym_stats/Reacher-v1/epsilon/sparsebellman/low/small/0001/openaigym.video.18.31439.video009960.mp4\n",
      "[2017-09-07 06:18:19,364] Starting new video recorder writing to /home/kj/TestCodes/MyTrial/DQN/DQN/Gym_stats/Reacher-v1/epsilon/sparsebellman/low/small/0001/openaigym.video.18.31439.video009970.mp4\n",
      "[2017-09-07 06:18:20,997] Starting new video recorder writing to /home/kj/TestCodes/MyTrial/DQN/DQN/Gym_stats/Reacher-v1/epsilon/sparsebellman/low/small/0001/openaigym.video.18.31439.video009980.mp4\n",
      "[2017-09-07 06:18:22,667] Starting new video recorder writing to /home/kj/TestCodes/MyTrial/DQN/DQN/Gym_stats/Reacher-v1/epsilon/sparsebellman/low/small/0001/openaigym.video.18.31439.video009990.mp4\n",
      "[2017-09-07 06:18:24,413] Finished writing results. You can upload them to the scoreboard via gym.upload('/home/kj/TestCodes/MyTrial/DQN/DQN/Gym_stats/Reacher-v1/epsilon/sparsebellman/low/small/0001')\n"
     ]
    },
    {
     "name": "stdout",
     "output_type": "stream",
     "text": [
      "Final mean reward, averaged over 1 experiment: -10.7812193696 (std = 0.0).\n",
      "Average episode duration: 121.783011 ms\n",
      "Average final reward: -10.82 (std=4.62).\n",
      "\n",
      "The 100-episode moving average reached -3.5 after 0 episodes.\n",
      "Problem: Reacher-v1, Actions: 9, Temp: 0.1, Strategy: epsilon, Backup: softbellman\n"
     ]
    },
    {
     "name": "stderr",
     "output_type": "stream",
     "text": [
      "[2017-09-07 06:18:35,136] Making new env: Reacher-v1\n",
      "[2017-09-07 06:18:35,140] Making new env: Reacher-v1\n"
     ]
    },
    {
     "name": "stdout",
     "output_type": "stream",
     "text": [
      "\n",
      "EXECUTING EXPERIMENT 0 OF 1 IN ENVIRONMENT Reacher-v1.\n"
     ]
    },
    {
     "name": "stderr",
     "output_type": "stream",
     "text": [
      "[2017-09-07 06:38:57,323] Starting new video recorder writing to /home/kj/TestCodes/MyTrial/DQN/DQN/Gym_stats/Reacher-v1/epsilon/softbellman/mid/small/0001/openaigym.video.19.31439.video009910.mp4\n",
      "[2017-09-07 06:38:59,046] Starting new video recorder writing to /home/kj/TestCodes/MyTrial/DQN/DQN/Gym_stats/Reacher-v1/epsilon/softbellman/mid/small/0001/openaigym.video.19.31439.video009920.mp4\n",
      "[2017-09-07 06:39:00,683] Starting new video recorder writing to /home/kj/TestCodes/MyTrial/DQN/DQN/Gym_stats/Reacher-v1/epsilon/softbellman/mid/small/0001/openaigym.video.19.31439.video009930.mp4\n",
      "[2017-09-07 06:39:02,318] Starting new video recorder writing to /home/kj/TestCodes/MyTrial/DQN/DQN/Gym_stats/Reacher-v1/epsilon/softbellman/mid/small/0001/openaigym.video.19.31439.video009940.mp4\n",
      "[2017-09-07 06:39:03,980] Starting new video recorder writing to /home/kj/TestCodes/MyTrial/DQN/DQN/Gym_stats/Reacher-v1/epsilon/softbellman/mid/small/0001/openaigym.video.19.31439.video009950.mp4\n",
      "[2017-09-07 06:39:05,621] Starting new video recorder writing to /home/kj/TestCodes/MyTrial/DQN/DQN/Gym_stats/Reacher-v1/epsilon/softbellman/mid/small/0001/openaigym.video.19.31439.video009960.mp4\n",
      "[2017-09-07 06:39:07,250] Starting new video recorder writing to /home/kj/TestCodes/MyTrial/DQN/DQN/Gym_stats/Reacher-v1/epsilon/softbellman/mid/small/0001/openaigym.video.19.31439.video009970.mp4\n",
      "[2017-09-07 06:39:08,887] Starting new video recorder writing to /home/kj/TestCodes/MyTrial/DQN/DQN/Gym_stats/Reacher-v1/epsilon/softbellman/mid/small/0001/openaigym.video.19.31439.video009980.mp4\n",
      "[2017-09-07 06:39:10,549] Starting new video recorder writing to /home/kj/TestCodes/MyTrial/DQN/DQN/Gym_stats/Reacher-v1/epsilon/softbellman/mid/small/0001/openaigym.video.19.31439.video009990.mp4\n",
      "[2017-09-07 06:39:12,278] Finished writing results. You can upload them to the scoreboard via gym.upload('/home/kj/TestCodes/MyTrial/DQN/DQN/Gym_stats/Reacher-v1/epsilon/softbellman/mid/small/0001')\n"
     ]
    },
    {
     "name": "stdout",
     "output_type": "stream",
     "text": [
      "Final mean reward, averaged over 1 experiment: -11.2409551758 (std = 0.0).\n",
      "Average episode duration: 123.624781 ms\n",
      "Average final reward: -11.28 (std=4.93).\n",
      "\n",
      "The 100-episode moving average reached -3.5 after 0 episodes.\n",
      "Reacher-v1 is finished and is saved\n"
     ]
    }
   ],
   "source": [
    "strategies = [\"sparsemax\",\"sparsemax\",\"epsilon\",\"epsilon\",\"epsilon\"]\n",
    "backuprules = [\"bellman\",\"sparsebellman\",\"softbellman\",\"sparsebellman\",\"softbellman\"]\n",
    "temperatures = [0.1, 0.1, 1, 0.01, 0.1]\n",
    "temperatures_name = [\"mid\", \"mid\", \"high\", \"low\", \"mid\"]\n",
    "action_res_list = [[51, 51], [31, 31], [11, 11], [3,3]]\n",
    "action_res_name = [\"large\",\"midlarge\",\"midsmall\",\"small\"]\n",
    "\n",
    "env_name = \"Reacher-v1\"\n",
    "min_avg_rwd = -3.5\n",
    "stop_training_min_avg_rwd = -3.75\n",
    "layers_size = [256, 256, 256, 256]\n",
    "n_ep = 10000\n",
    "n_exps = 1\n",
    "\n",
    "gym_stats_dir_prefix = os.path.join('Gym_stats', env_name)\n",
    "figures_dir = 'Figures'\n",
    "api_key = '###'\n",
    "alg_id = '###'\n",
    "\n",
    "data = defaultdict(lambda : defaultdict(lambda : defaultdict(lambda : defaultdict(lambda : None))))\n",
    "for action_res, action_name in zip(action_res_list,action_res_name):\n",
    "    for temperature, temperature_name, strategy, backuprule in zip(temperatures, temperatures_name, strategies, backuprules):\n",
    "                gym_stats_dir_prefix = os.path.join('Gym_stats', \n",
    "                                                    env_name+'/'+str(strategy)+'/'+str(backuprule)+'/'+str(temperature_name)+'/'+str(action_name))\n",
    "                print(\"Problem: {}, Actions: {}, Temp: {}, Strategy: {}, Backup: {}\".format(env_name,np.prod(action_res),temperature,strategy,backuprule))\n",
    "                expsman = ExperimentsManager(env_name=env_name, agent_value_function_hidden_layers_size=layers_size,\n",
    "                                      figures_dir=figures_dir, discount=0.99, decay_eps=0.999, eps_min=1E-4, learning_rate=3E-4,\n",
    "                                      decay_lr=True, max_step=10000, replay_memory_max_size=10000, ep_verbose=False,\n",
    "                                      exp_verbose=False, learning_rate_end=3E-5, batch_size=128, upload_last_exp=False, double_dqn=True, dueling=False,\n",
    "                                      target_params_update_period_steps=50, replay_period_steps=4, min_avg_rwd=min_avg_rwd,\n",
    "                                      per_proportional_prioritization=True, per_apply_importance_sampling=True, per_alpha=0.2,\n",
    "                                      per_beta0=0.4,\n",
    "                                      results_dir_prefix=gym_stats_dir_prefix, gym_api_key=api_key, gym_algorithm_id=alg_id,\n",
    "                                      strategy=strategy,backuprule=backuprule,temperature=temperature,action_res=action_res,\n",
    "                                      video_recording=True)\n",
    "                _, _, Rwd_per_ep_v, Loss_per_ep_v = expsman.run_experiments(n_exps=n_exps, n_ep=n_ep, stop_training_min_avg_rwd=stop_training_min_avg_rwd, plot_results=False)\n",
    "                data[action_name][temperature_name][strategy][backuprule] = {\"reward_list\":Rwd_per_ep_v,\"loss_list\":Loss_per_ep_v}\n",
    "\n",
    "scipyio.savemat(env_name+\"_selected.mat\", data)\n",
    "print(\"{} is finished and is saved\".format(env_name))"
   ]
  }
 ],
 "metadata": {
  "kernelspec": {
   "display_name": "Python 2",
   "language": "python",
   "name": "python2"
  },
  "language_info": {
   "codemirror_mode": {
    "name": "ipython",
    "version": 2
   },
   "file_extension": ".py",
   "mimetype": "text/x-python",
   "name": "python",
   "nbconvert_exporter": "python",
   "pygments_lexer": "ipython2",
   "version": "2.7.12"
  }
 },
 "nbformat": 4,
 "nbformat_minor": 2
}
