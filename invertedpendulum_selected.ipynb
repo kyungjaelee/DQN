{
 "cells": [
  {
   "cell_type": "code",
   "execution_count": 1,
   "metadata": {},
   "outputs": [
    {
     "name": "stderr",
     "output_type": "stream",
     "text": [
      "/home/kj/.local/lib/python2.7/site-packages/requests/__init__.py:80: RequestsDependencyWarning: urllib3 (1.22) or chardet (2.3.0) doesn't match a supported version!\n",
      "  RequestsDependencyWarning)\n"
     ]
    }
   ],
   "source": [
    "import os\n",
    "from gymhelpers import ExperimentsManager\n",
    "import scipy.io as scipyio\n",
    "import numpy as np\n",
    "from collections import defaultdict"
   ]
  },
  {
   "cell_type": "code",
   "execution_count": 2,
   "metadata": {
    "scrolled": true
   },
   "outputs": [
    {
     "name": "stdout",
     "output_type": "stream",
     "text": [
      "Problem: InvertedPendulum-v1, Actions: 2001, Temp: 0.01, Strategy: sparsemax, Backup: bellman\n"
     ]
    },
    {
     "name": "stderr",
     "output_type": "stream",
     "text": [
      "[2017-09-06 11:53:25,992] Making new env: InvertedPendulum-v1\n",
      "[2017-09-06 11:53:26,233] Making new env: InvertedPendulum-v1\n"
     ]
    },
    {
     "name": "stdout",
     "output_type": "stream",
     "text": [
      "\n",
      "EXECUTING EXPERIMENT 0 OF 1 IN ENVIRONMENT InvertedPendulum-v1.\n",
      "Minimum average reward reached. Stop training and exploration.\n"
     ]
    },
    {
     "name": "stderr",
     "output_type": "stream",
     "text": [
      "[2017-09-06 13:26:32,947] Starting new video recorder writing to /home/kj/TestCodes/MyTrial/DQN/DQN/Gym_stats/InvertedPendulum-v1/sparsemax/bellman/low/large/0001/openaigym.video.0.28550.video003910.mp4\n",
      "[2017-09-06 13:26:46,974] Starting new video recorder writing to /home/kj/TestCodes/MyTrial/DQN/DQN/Gym_stats/InvertedPendulum-v1/sparsemax/bellman/low/large/0001/openaigym.video.0.28550.video003920.mp4\n",
      "[2017-09-06 13:27:00,302] Starting new video recorder writing to /home/kj/TestCodes/MyTrial/DQN/DQN/Gym_stats/InvertedPendulum-v1/sparsemax/bellman/low/large/0001/openaigym.video.0.28550.video003930.mp4\n",
      "[2017-09-06 13:27:13,697] Starting new video recorder writing to /home/kj/TestCodes/MyTrial/DQN/DQN/Gym_stats/InvertedPendulum-v1/sparsemax/bellman/low/large/0001/openaigym.video.0.28550.video003940.mp4\n",
      "[2017-09-06 13:27:27,082] Starting new video recorder writing to /home/kj/TestCodes/MyTrial/DQN/DQN/Gym_stats/InvertedPendulum-v1/sparsemax/bellman/low/large/0001/openaigym.video.0.28550.video003950.mp4\n",
      "[2017-09-06 13:27:40,509] Starting new video recorder writing to /home/kj/TestCodes/MyTrial/DQN/DQN/Gym_stats/InvertedPendulum-v1/sparsemax/bellman/low/large/0001/openaigym.video.0.28550.video003960.mp4\n",
      "[2017-09-06 13:27:53,844] Starting new video recorder writing to /home/kj/TestCodes/MyTrial/DQN/DQN/Gym_stats/InvertedPendulum-v1/sparsemax/bellman/low/large/0001/openaigym.video.0.28550.video003970.mp4\n",
      "[2017-09-06 13:28:07,113] Starting new video recorder writing to /home/kj/TestCodes/MyTrial/DQN/DQN/Gym_stats/InvertedPendulum-v1/sparsemax/bellman/low/large/0001/openaigym.video.0.28550.video003980.mp4\n",
      "[2017-09-06 13:28:20,412] Starting new video recorder writing to /home/kj/TestCodes/MyTrial/DQN/DQN/Gym_stats/InvertedPendulum-v1/sparsemax/bellman/low/large/0001/openaigym.video.0.28550.video003990.mp4\n",
      "[2017-09-06 13:28:33,785] Finished writing results. You can upload them to the scoreboard via gym.upload('/home/kj/TestCodes/MyTrial/DQN/DQN/Gym_stats/InvertedPendulum-v1/sparsemax/bellman/low/large/0001')\n"
     ]
    },
    {
     "name": "stdout",
     "output_type": "stream",
     "text": [
      "Final mean reward, averaged over 1 experiment: 1000.0 (std = 0.0).\n"
     ]
    },
    {
     "name": "stderr",
     "output_type": "stream",
     "text": [
      "plot_utils.py:83: RuntimeWarning: invalid value encountered in divide\n",
      "  factor = higher_border / mu\n",
      "plot_utils.py:84: RuntimeWarning: divide by zero encountered in divide\n",
      "  lower_border = np.clip(lower_border, mu / factor, mu)\n"
     ]
    },
    {
     "name": "stdout",
     "output_type": "stream",
     "text": [
      "Average episode duration: 1426.774647 ms\n",
      "Average final reward: 1000.00 (std=0.00).\n",
      "\n",
      "The 100-episode moving average reached 930 after 691 episodes.\n",
      "Problem: InvertedPendulum-v1, Actions: 2001, Temp: 0.1, Strategy: softmax, Backup: bellman\n"
     ]
    },
    {
     "name": "stderr",
     "output_type": "stream",
     "text": [
      "[2017-09-06 13:28:38,108] Making new env: InvertedPendulum-v1\n",
      "[2017-09-06 13:28:38,113] Making new env: InvertedPendulum-v1\n"
     ]
    },
    {
     "name": "stdout",
     "output_type": "stream",
     "text": [
      "\n",
      "EXECUTING EXPERIMENT 0 OF 1 IN ENVIRONMENT InvertedPendulum-v1.\n",
      "Minimum average reward reached. Stop training and exploration.\n"
     ]
    },
    {
     "name": "stderr",
     "output_type": "stream",
     "text": [
      "[2017-09-06 14:12:49,372] Starting new video recorder writing to /home/kj/TestCodes/MyTrial/DQN/DQN/Gym_stats/InvertedPendulum-v1/softmax/bellman/mid/large/0001/openaigym.video.1.28550.video003910.mp4\n",
      "[2017-09-06 14:13:02,535] Starting new video recorder writing to /home/kj/TestCodes/MyTrial/DQN/DQN/Gym_stats/InvertedPendulum-v1/softmax/bellman/mid/large/0001/openaigym.video.1.28550.video003920.mp4\n",
      "[2017-09-06 14:13:15,629] Starting new video recorder writing to /home/kj/TestCodes/MyTrial/DQN/DQN/Gym_stats/InvertedPendulum-v1/softmax/bellman/mid/large/0001/openaigym.video.1.28550.video003930.mp4\n",
      "[2017-09-06 14:13:28,651] Starting new video recorder writing to /home/kj/TestCodes/MyTrial/DQN/DQN/Gym_stats/InvertedPendulum-v1/softmax/bellman/mid/large/0001/openaigym.video.1.28550.video003940.mp4\n",
      "[2017-09-06 14:13:41,729] Starting new video recorder writing to /home/kj/TestCodes/MyTrial/DQN/DQN/Gym_stats/InvertedPendulum-v1/softmax/bellman/mid/large/0001/openaigym.video.1.28550.video003950.mp4\n",
      "[2017-09-06 14:13:54,860] Starting new video recorder writing to /home/kj/TestCodes/MyTrial/DQN/DQN/Gym_stats/InvertedPendulum-v1/softmax/bellman/mid/large/0001/openaigym.video.1.28550.video003960.mp4\n",
      "[2017-09-06 14:14:07,969] Starting new video recorder writing to /home/kj/TestCodes/MyTrial/DQN/DQN/Gym_stats/InvertedPendulum-v1/softmax/bellman/mid/large/0001/openaigym.video.1.28550.video003970.mp4\n",
      "[2017-09-06 14:14:21,080] Starting new video recorder writing to /home/kj/TestCodes/MyTrial/DQN/DQN/Gym_stats/InvertedPendulum-v1/softmax/bellman/mid/large/0001/openaigym.video.1.28550.video003980.mp4\n",
      "[2017-09-06 14:14:34,276] Starting new video recorder writing to /home/kj/TestCodes/MyTrial/DQN/DQN/Gym_stats/InvertedPendulum-v1/softmax/bellman/mid/large/0001/openaigym.video.1.28550.video003990.mp4\n",
      "[2017-09-06 14:14:47,523] Finished writing results. You can upload them to the scoreboard via gym.upload('/home/kj/TestCodes/MyTrial/DQN/DQN/Gym_stats/InvertedPendulum-v1/softmax/bellman/mid/large/0001')\n"
     ]
    },
    {
     "name": "stdout",
     "output_type": "stream",
     "text": [
      "Final mean reward, averaged over 1 experiment: 1000.0 (std = 0.0).\n",
      "Average episode duration: 692.221933 ms\n",
      "Average final reward: 1000.00 (std=0.00).\n",
      "\n",
      "The 100-episode moving average reached 930 after 952 episodes.\n",
      "Problem: InvertedPendulum-v1, Actions: 2001, Temp: 0.1, Strategy: sparsemax, Backup: softbellman\n"
     ]
    },
    {
     "name": "stderr",
     "output_type": "stream",
     "text": [
      "[2017-09-06 14:14:51,809] Making new env: InvertedPendulum-v1\n",
      "[2017-09-06 14:14:51,814] Making new env: InvertedPendulum-v1\n"
     ]
    },
    {
     "name": "stdout",
     "output_type": "stream",
     "text": [
      "\n",
      "EXECUTING EXPERIMENT 0 OF 1 IN ENVIRONMENT InvertedPendulum-v1.\n",
      "Minimum average reward reached. Stop training and exploration.\n"
     ]
    },
    {
     "name": "stderr",
     "output_type": "stream",
     "text": [
      "[2017-09-06 15:25:34,856] Starting new video recorder writing to /home/kj/TestCodes/MyTrial/DQN/DQN/Gym_stats/InvertedPendulum-v1/sparsemax/softbellman/mid/large/0001/openaigym.video.2.28550.video003910.mp4\n",
      "[2017-09-06 15:25:47,576] Starting new video recorder writing to /home/kj/TestCodes/MyTrial/DQN/DQN/Gym_stats/InvertedPendulum-v1/sparsemax/softbellman/mid/large/0001/openaigym.video.2.28550.video003920.mp4\n",
      "[2017-09-06 15:26:00,429] Starting new video recorder writing to /home/kj/TestCodes/MyTrial/DQN/DQN/Gym_stats/InvertedPendulum-v1/sparsemax/softbellman/mid/large/0001/openaigym.video.2.28550.video003930.mp4\n",
      "[2017-09-06 15:26:13,135] Starting new video recorder writing to /home/kj/TestCodes/MyTrial/DQN/DQN/Gym_stats/InvertedPendulum-v1/sparsemax/softbellman/mid/large/0001/openaigym.video.2.28550.video003940.mp4\n",
      "[2017-09-06 15:26:26,010] Starting new video recorder writing to /home/kj/TestCodes/MyTrial/DQN/DQN/Gym_stats/InvertedPendulum-v1/sparsemax/softbellman/mid/large/0001/openaigym.video.2.28550.video003950.mp4\n",
      "[2017-09-06 15:26:38,801] Starting new video recorder writing to /home/kj/TestCodes/MyTrial/DQN/DQN/Gym_stats/InvertedPendulum-v1/sparsemax/softbellman/mid/large/0001/openaigym.video.2.28550.video003960.mp4\n",
      "[2017-09-06 15:26:51,576] Starting new video recorder writing to /home/kj/TestCodes/MyTrial/DQN/DQN/Gym_stats/InvertedPendulum-v1/sparsemax/softbellman/mid/large/0001/openaigym.video.2.28550.video003970.mp4\n",
      "[2017-09-06 15:27:04,304] Starting new video recorder writing to /home/kj/TestCodes/MyTrial/DQN/DQN/Gym_stats/InvertedPendulum-v1/sparsemax/softbellman/mid/large/0001/openaigym.video.2.28550.video003980.mp4\n",
      "[2017-09-06 15:27:16,954] Starting new video recorder writing to /home/kj/TestCodes/MyTrial/DQN/DQN/Gym_stats/InvertedPendulum-v1/sparsemax/softbellman/mid/large/0001/openaigym.video.2.28550.video003990.mp4\n",
      "[2017-09-06 15:27:29,761] Finished writing results. You can upload them to the scoreboard via gym.upload('/home/kj/TestCodes/MyTrial/DQN/DQN/Gym_stats/InvertedPendulum-v1/sparsemax/softbellman/mid/large/0001')\n"
     ]
    },
    {
     "name": "stdout",
     "output_type": "stream",
     "text": [
      "Final mean reward, averaged over 1 experiment: 1000.0 (std = 0.0).\n",
      "Average episode duration: 1089.381986 ms\n",
      "Average final reward: 1000.00 (std=0.00).\n",
      "\n",
      "The 100-episode moving average reached 930 after 751 episodes.\n",
      "Problem: InvertedPendulum-v1, Actions: 2001, Temp: 1, Strategy: sparsemax, Backup: sparsebellman\n"
     ]
    },
    {
     "name": "stderr",
     "output_type": "stream",
     "text": [
      "[2017-09-06 15:27:33,980] Making new env: InvertedPendulum-v1\n",
      "[2017-09-06 15:27:33,984] Making new env: InvertedPendulum-v1\n"
     ]
    },
    {
     "name": "stdout",
     "output_type": "stream",
     "text": [
      "\n",
      "EXECUTING EXPERIMENT 0 OF 1 IN ENVIRONMENT InvertedPendulum-v1.\n",
      "Minimum average reward reached. Stop training and exploration.\n"
     ]
    },
    {
     "name": "stderr",
     "output_type": "stream",
     "text": [
      "[2017-09-06 16:32:57,501] Starting new video recorder writing to /home/kj/TestCodes/MyTrial/DQN/DQN/Gym_stats/InvertedPendulum-v1/sparsemax/sparsebellman/high/large/0001/openaigym.video.3.28550.video003910.mp4\n",
      "[2017-09-06 16:33:10,302] Starting new video recorder writing to /home/kj/TestCodes/MyTrial/DQN/DQN/Gym_stats/InvertedPendulum-v1/sparsemax/sparsebellman/high/large/0001/openaigym.video.3.28550.video003920.mp4\n",
      "[2017-09-06 16:33:23,158] Starting new video recorder writing to /home/kj/TestCodes/MyTrial/DQN/DQN/Gym_stats/InvertedPendulum-v1/sparsemax/sparsebellman/high/large/0001/openaigym.video.3.28550.video003930.mp4\n",
      "[2017-09-06 16:33:35,976] Starting new video recorder writing to /home/kj/TestCodes/MyTrial/DQN/DQN/Gym_stats/InvertedPendulum-v1/sparsemax/sparsebellman/high/large/0001/openaigym.video.3.28550.video003940.mp4\n",
      "[2017-09-06 16:33:48,696] Starting new video recorder writing to /home/kj/TestCodes/MyTrial/DQN/DQN/Gym_stats/InvertedPendulum-v1/sparsemax/sparsebellman/high/large/0001/openaigym.video.3.28550.video003950.mp4\n",
      "[2017-09-06 16:34:01,430] Starting new video recorder writing to /home/kj/TestCodes/MyTrial/DQN/DQN/Gym_stats/InvertedPendulum-v1/sparsemax/sparsebellman/high/large/0001/openaigym.video.3.28550.video003960.mp4\n",
      "[2017-09-06 16:34:14,295] Starting new video recorder writing to /home/kj/TestCodes/MyTrial/DQN/DQN/Gym_stats/InvertedPendulum-v1/sparsemax/sparsebellman/high/large/0001/openaigym.video.3.28550.video003970.mp4\n",
      "[2017-09-06 16:34:27,090] Starting new video recorder writing to /home/kj/TestCodes/MyTrial/DQN/DQN/Gym_stats/InvertedPendulum-v1/sparsemax/sparsebellman/high/large/0001/openaigym.video.3.28550.video003980.mp4\n",
      "[2017-09-06 16:34:40,021] Starting new video recorder writing to /home/kj/TestCodes/MyTrial/DQN/DQN/Gym_stats/InvertedPendulum-v1/sparsemax/sparsebellman/high/large/0001/openaigym.video.3.28550.video003990.mp4\n",
      "[2017-09-06 16:34:52,766] Finished writing results. You can upload them to the scoreboard via gym.upload('/home/kj/TestCodes/MyTrial/DQN/DQN/Gym_stats/InvertedPendulum-v1/sparsemax/sparsebellman/high/large/0001')\n"
     ]
    },
    {
     "name": "stdout",
     "output_type": "stream",
     "text": [
      "Final mean reward, averaged over 1 experiment: 1000.0 (std = 0.0).\n",
      "Average episode duration: 1009.570639 ms\n",
      "Average final reward: 1000.00 (std=0.00).\n",
      "\n",
      "The 100-episode moving average reached 930 after 677 episodes.\n",
      "Problem: InvertedPendulum-v1, Actions: 2001, Temp: 0.01, Strategy: sparsemax, Backup: sparsebellman\n"
     ]
    },
    {
     "name": "stderr",
     "output_type": "stream",
     "text": [
      "[2017-09-06 16:34:56,966] Making new env: InvertedPendulum-v1\n",
      "[2017-09-06 16:34:56,970] Making new env: InvertedPendulum-v1\n"
     ]
    },
    {
     "name": "stdout",
     "output_type": "stream",
     "text": [
      "\n",
      "EXECUTING EXPERIMENT 0 OF 1 IN ENVIRONMENT InvertedPendulum-v1.\n",
      "Minimum average reward reached. Stop training and exploration.\n"
     ]
    },
    {
     "name": "stderr",
     "output_type": "stream",
     "text": [
      "[2017-09-06 18:31:25,168] Starting new video recorder writing to /home/kj/TestCodes/MyTrial/DQN/DQN/Gym_stats/InvertedPendulum-v1/sparsemax/sparsebellman/low/large/0001/openaigym.video.4.28550.video003910.mp4\n",
      "[2017-09-06 18:31:37,851] Starting new video recorder writing to /home/kj/TestCodes/MyTrial/DQN/DQN/Gym_stats/InvertedPendulum-v1/sparsemax/sparsebellman/low/large/0001/openaigym.video.4.28550.video003920.mp4\n",
      "[2017-09-06 18:31:50,604] Starting new video recorder writing to /home/kj/TestCodes/MyTrial/DQN/DQN/Gym_stats/InvertedPendulum-v1/sparsemax/sparsebellman/low/large/0001/openaigym.video.4.28550.video003930.mp4\n",
      "[2017-09-06 18:32:03,334] Starting new video recorder writing to /home/kj/TestCodes/MyTrial/DQN/DQN/Gym_stats/InvertedPendulum-v1/sparsemax/sparsebellman/low/large/0001/openaigym.video.4.28550.video003940.mp4\n",
      "[2017-09-06 18:32:16,049] Starting new video recorder writing to /home/kj/TestCodes/MyTrial/DQN/DQN/Gym_stats/InvertedPendulum-v1/sparsemax/sparsebellman/low/large/0001/openaigym.video.4.28550.video003950.mp4\n",
      "[2017-09-06 18:32:28,836] Starting new video recorder writing to /home/kj/TestCodes/MyTrial/DQN/DQN/Gym_stats/InvertedPendulum-v1/sparsemax/sparsebellman/low/large/0001/openaigym.video.4.28550.video003960.mp4\n",
      "[2017-09-06 18:32:41,616] Starting new video recorder writing to /home/kj/TestCodes/MyTrial/DQN/DQN/Gym_stats/InvertedPendulum-v1/sparsemax/sparsebellman/low/large/0001/openaigym.video.4.28550.video003970.mp4\n",
      "[2017-09-06 18:32:54,294] Starting new video recorder writing to /home/kj/TestCodes/MyTrial/DQN/DQN/Gym_stats/InvertedPendulum-v1/sparsemax/sparsebellman/low/large/0001/openaigym.video.4.28550.video003980.mp4\n",
      "[2017-09-06 18:33:07,119] Starting new video recorder writing to /home/kj/TestCodes/MyTrial/DQN/DQN/Gym_stats/InvertedPendulum-v1/sparsemax/sparsebellman/low/large/0001/openaigym.video.4.28550.video003990.mp4\n",
      "[2017-09-06 18:33:19,905] Finished writing results. You can upload them to the scoreboard via gym.upload('/home/kj/TestCodes/MyTrial/DQN/DQN/Gym_stats/InvertedPendulum-v1/sparsemax/sparsebellman/low/large/0001')\n"
     ]
    },
    {
     "name": "stdout",
     "output_type": "stream",
     "text": [
      "Final mean reward, averaged over 1 experiment: 1000.0 (std = 0.0).\n",
      "Average episode duration: 1775.623794 ms\n",
      "Average final reward: 1000.00 (std=0.00).\n",
      "\n",
      "The 100-episode moving average reached 930 after 968 episodes.\n",
      "Problem: InvertedPendulum-v1, Actions: 1001, Temp: 0.01, Strategy: sparsemax, Backup: bellman\n"
     ]
    },
    {
     "name": "stderr",
     "output_type": "stream",
     "text": [
      "[2017-09-06 18:33:24,162] Making new env: InvertedPendulum-v1\n",
      "[2017-09-06 18:33:24,166] Making new env: InvertedPendulum-v1\n"
     ]
    },
    {
     "name": "stdout",
     "output_type": "stream",
     "text": [
      "\n",
      "EXECUTING EXPERIMENT 0 OF 1 IN ENVIRONMENT InvertedPendulum-v1.\n",
      "Minimum average reward reached. Stop training and exploration.\n"
     ]
    },
    {
     "name": "stderr",
     "output_type": "stream",
     "text": [
      "[2017-09-06 19:37:03,811] Starting new video recorder writing to /home/kj/TestCodes/MyTrial/DQN/DQN/Gym_stats/InvertedPendulum-v1/sparsemax/bellman/low/midlarge/0001/openaigym.video.5.28550.video003910.mp4\n",
      "[2017-09-06 19:37:16,420] Starting new video recorder writing to /home/kj/TestCodes/MyTrial/DQN/DQN/Gym_stats/InvertedPendulum-v1/sparsemax/bellman/low/midlarge/0001/openaigym.video.5.28550.video003920.mp4\n",
      "[2017-09-06 19:37:29,138] Starting new video recorder writing to /home/kj/TestCodes/MyTrial/DQN/DQN/Gym_stats/InvertedPendulum-v1/sparsemax/bellman/low/midlarge/0001/openaigym.video.5.28550.video003930.mp4\n",
      "[2017-09-06 19:37:41,666] Starting new video recorder writing to /home/kj/TestCodes/MyTrial/DQN/DQN/Gym_stats/InvertedPendulum-v1/sparsemax/bellman/low/midlarge/0001/openaigym.video.5.28550.video003940.mp4\n",
      "[2017-09-06 19:37:54,084] Starting new video recorder writing to /home/kj/TestCodes/MyTrial/DQN/DQN/Gym_stats/InvertedPendulum-v1/sparsemax/bellman/low/midlarge/0001/openaigym.video.5.28550.video003950.mp4\n",
      "[2017-09-06 19:38:06,624] Starting new video recorder writing to /home/kj/TestCodes/MyTrial/DQN/DQN/Gym_stats/InvertedPendulum-v1/sparsemax/bellman/low/midlarge/0001/openaigym.video.5.28550.video003960.mp4\n",
      "[2017-09-06 19:38:19,185] Starting new video recorder writing to /home/kj/TestCodes/MyTrial/DQN/DQN/Gym_stats/InvertedPendulum-v1/sparsemax/bellman/low/midlarge/0001/openaigym.video.5.28550.video003970.mp4\n",
      "[2017-09-06 19:38:31,706] Starting new video recorder writing to /home/kj/TestCodes/MyTrial/DQN/DQN/Gym_stats/InvertedPendulum-v1/sparsemax/bellman/low/midlarge/0001/openaigym.video.5.28550.video003980.mp4\n",
      "[2017-09-06 19:38:44,369] Starting new video recorder writing to /home/kj/TestCodes/MyTrial/DQN/DQN/Gym_stats/InvertedPendulum-v1/sparsemax/bellman/low/midlarge/0001/openaigym.video.5.28550.video003990.mp4\n",
      "[2017-09-06 19:38:57,013] Finished writing results. You can upload them to the scoreboard via gym.upload('/home/kj/TestCodes/MyTrial/DQN/DQN/Gym_stats/InvertedPendulum-v1/sparsemax/bellman/low/midlarge/0001')\n"
     ]
    },
    {
     "name": "stdout",
     "output_type": "stream",
     "text": [
      "Final mean reward, averaged over 1 experiment: 1000.0 (std = 0.0).\n",
      "Average episode duration: 983.106513 ms\n",
      "Average final reward: 1000.00 (std=0.00).\n",
      "\n",
      "The 100-episode moving average reached 930 after 848 episodes.\n",
      "Problem: InvertedPendulum-v1, Actions: 1001, Temp: 0.1, Strategy: softmax, Backup: bellman\n"
     ]
    },
    {
     "name": "stderr",
     "output_type": "stream",
     "text": [
      "[2017-09-06 19:39:01,255] Making new env: InvertedPendulum-v1\n",
      "[2017-09-06 19:39:01,260] Making new env: InvertedPendulum-v1\n"
     ]
    },
    {
     "name": "stdout",
     "output_type": "stream",
     "text": [
      "\n",
      "EXECUTING EXPERIMENT 0 OF 1 IN ENVIRONMENT InvertedPendulum-v1.\n",
      "Minimum average reward reached. Stop training and exploration.\n"
     ]
    },
    {
     "name": "stderr",
     "output_type": "stream",
     "text": [
      "[2017-09-06 20:21:02,459] Starting new video recorder writing to /home/kj/TestCodes/MyTrial/DQN/DQN/Gym_stats/InvertedPendulum-v1/softmax/bellman/mid/midlarge/0001/openaigym.video.6.28550.video003910.mp4\n",
      "[2017-09-06 20:21:14,877] Starting new video recorder writing to /home/kj/TestCodes/MyTrial/DQN/DQN/Gym_stats/InvertedPendulum-v1/softmax/bellman/mid/midlarge/0001/openaigym.video.6.28550.video003920.mp4\n",
      "[2017-09-06 20:21:27,272] Starting new video recorder writing to /home/kj/TestCodes/MyTrial/DQN/DQN/Gym_stats/InvertedPendulum-v1/softmax/bellman/mid/midlarge/0001/openaigym.video.6.28550.video003930.mp4\n",
      "[2017-09-06 20:21:39,691] Starting new video recorder writing to /home/kj/TestCodes/MyTrial/DQN/DQN/Gym_stats/InvertedPendulum-v1/softmax/bellman/mid/midlarge/0001/openaigym.video.6.28550.video003940.mp4\n",
      "[2017-09-06 20:21:52,106] Starting new video recorder writing to /home/kj/TestCodes/MyTrial/DQN/DQN/Gym_stats/InvertedPendulum-v1/softmax/bellman/mid/midlarge/0001/openaigym.video.6.28550.video003950.mp4\n",
      "[2017-09-06 20:22:04,545] Starting new video recorder writing to /home/kj/TestCodes/MyTrial/DQN/DQN/Gym_stats/InvertedPendulum-v1/softmax/bellman/mid/midlarge/0001/openaigym.video.6.28550.video003960.mp4\n",
      "[2017-09-06 20:22:16,945] Starting new video recorder writing to /home/kj/TestCodes/MyTrial/DQN/DQN/Gym_stats/InvertedPendulum-v1/softmax/bellman/mid/midlarge/0001/openaigym.video.6.28550.video003970.mp4\n",
      "[2017-09-06 20:22:29,334] Starting new video recorder writing to /home/kj/TestCodes/MyTrial/DQN/DQN/Gym_stats/InvertedPendulum-v1/softmax/bellman/mid/midlarge/0001/openaigym.video.6.28550.video003980.mp4\n",
      "[2017-09-06 20:22:41,765] Starting new video recorder writing to /home/kj/TestCodes/MyTrial/DQN/DQN/Gym_stats/InvertedPendulum-v1/softmax/bellman/mid/midlarge/0001/openaigym.video.6.28550.video003990.mp4\n",
      "[2017-09-06 20:22:54,250] Finished writing results. You can upload them to the scoreboard via gym.upload('/home/kj/TestCodes/MyTrial/DQN/DQN/Gym_stats/InvertedPendulum-v1/softmax/bellman/mid/midlarge/0001')\n"
     ]
    },
    {
     "name": "stdout",
     "output_type": "stream",
     "text": [
      "Final mean reward, averaged over 1 experiment: 1000.0 (std = 0.0).\n",
      "Average episode duration: 658.134731 ms\n",
      "Average final reward: 1000.00 (std=0.00).\n",
      "\n",
      "The 100-episode moving average reached 930 after 990 episodes.\n",
      "Problem: InvertedPendulum-v1, Actions: 1001, Temp: 0.1, Strategy: sparsemax, Backup: softbellman\n"
     ]
    },
    {
     "name": "stderr",
     "output_type": "stream",
     "text": [
      "[2017-09-06 20:22:58,497] Making new env: InvertedPendulum-v1\n",
      "[2017-09-06 20:22:58,500] Making new env: InvertedPendulum-v1\n"
     ]
    },
    {
     "name": "stdout",
     "output_type": "stream",
     "text": [
      "\n",
      "EXECUTING EXPERIMENT 0 OF 1 IN ENVIRONMENT InvertedPendulum-v1.\n",
      "Minimum average reward reached. Stop training and exploration.\n"
     ]
    },
    {
     "name": "stderr",
     "output_type": "stream",
     "text": [
      "[2017-09-06 21:22:52,740] Starting new video recorder writing to /home/kj/TestCodes/MyTrial/DQN/DQN/Gym_stats/InvertedPendulum-v1/sparsemax/softbellman/mid/midlarge/0001/openaigym.video.7.28550.video003910.mp4\n",
      "[2017-09-06 21:23:05,684] Starting new video recorder writing to /home/kj/TestCodes/MyTrial/DQN/DQN/Gym_stats/InvertedPendulum-v1/sparsemax/softbellman/mid/midlarge/0001/openaigym.video.7.28550.video003920.mp4\n",
      "[2017-09-06 21:23:18,194] Starting new video recorder writing to /home/kj/TestCodes/MyTrial/DQN/DQN/Gym_stats/InvertedPendulum-v1/sparsemax/softbellman/mid/midlarge/0001/openaigym.video.7.28550.video003930.mp4\n",
      "[2017-09-06 21:23:30,704] Starting new video recorder writing to /home/kj/TestCodes/MyTrial/DQN/DQN/Gym_stats/InvertedPendulum-v1/sparsemax/softbellman/mid/midlarge/0001/openaigym.video.7.28550.video003940.mp4\n",
      "[2017-09-06 21:23:43,141] Starting new video recorder writing to /home/kj/TestCodes/MyTrial/DQN/DQN/Gym_stats/InvertedPendulum-v1/sparsemax/softbellman/mid/midlarge/0001/openaigym.video.7.28550.video003950.mp4\n",
      "[2017-09-06 21:23:55,649] Starting new video recorder writing to /home/kj/TestCodes/MyTrial/DQN/DQN/Gym_stats/InvertedPendulum-v1/sparsemax/softbellman/mid/midlarge/0001/openaigym.video.7.28550.video003960.mp4\n",
      "[2017-09-06 21:24:08,317] Starting new video recorder writing to /home/kj/TestCodes/MyTrial/DQN/DQN/Gym_stats/InvertedPendulum-v1/sparsemax/softbellman/mid/midlarge/0001/openaigym.video.7.28550.video003970.mp4\n",
      "[2017-09-06 21:24:20,938] Starting new video recorder writing to /home/kj/TestCodes/MyTrial/DQN/DQN/Gym_stats/InvertedPendulum-v1/sparsemax/softbellman/mid/midlarge/0001/openaigym.video.7.28550.video003980.mp4\n",
      "[2017-09-06 21:24:33,506] Starting new video recorder writing to /home/kj/TestCodes/MyTrial/DQN/DQN/Gym_stats/InvertedPendulum-v1/sparsemax/softbellman/mid/midlarge/0001/openaigym.video.7.28550.video003990.mp4\n",
      "[2017-09-06 21:24:45,964] Finished writing results. You can upload them to the scoreboard via gym.upload('/home/kj/TestCodes/MyTrial/DQN/DQN/Gym_stats/InvertedPendulum-v1/sparsemax/softbellman/mid/midlarge/0001')\n"
     ]
    },
    {
     "name": "stdout",
     "output_type": "stream",
     "text": [
      "Final mean reward, averaged over 1 experiment: 1000.0 (std = 0.0).\n",
      "Average episode duration: 926.760916 ms\n",
      "Average final reward: 1000.00 (std=0.00).\n",
      "\n",
      "The 100-episode moving average reached 930 after 842 episodes.\n",
      "Problem: InvertedPendulum-v1, Actions: 1001, Temp: 1, Strategy: sparsemax, Backup: sparsebellman\n"
     ]
    },
    {
     "name": "stderr",
     "output_type": "stream",
     "text": [
      "[2017-09-06 21:24:50,212] Making new env: InvertedPendulum-v1\n",
      "[2017-09-06 21:24:50,216] Making new env: InvertedPendulum-v1\n"
     ]
    },
    {
     "name": "stdout",
     "output_type": "stream",
     "text": [
      "\n",
      "EXECUTING EXPERIMENT 0 OF 1 IN ENVIRONMENT InvertedPendulum-v1.\n",
      "Minimum average reward reached. Stop training and exploration.\n"
     ]
    },
    {
     "name": "stderr",
     "output_type": "stream",
     "text": [
      "[2017-09-06 22:27:00,568] Starting new video recorder writing to /home/kj/TestCodes/MyTrial/DQN/DQN/Gym_stats/InvertedPendulum-v1/sparsemax/sparsebellman/high/midlarge/0001/openaigym.video.8.28550.video003910.mp4\n",
      "[2017-09-06 22:27:13,922] Starting new video recorder writing to /home/kj/TestCodes/MyTrial/DQN/DQN/Gym_stats/InvertedPendulum-v1/sparsemax/sparsebellman/high/midlarge/0001/openaigym.video.8.28550.video003920.mp4\n",
      "[2017-09-06 22:27:27,185] Starting new video recorder writing to /home/kj/TestCodes/MyTrial/DQN/DQN/Gym_stats/InvertedPendulum-v1/sparsemax/sparsebellman/high/midlarge/0001/openaigym.video.8.28550.video003930.mp4\n",
      "[2017-09-06 22:27:40,439] Starting new video recorder writing to /home/kj/TestCodes/MyTrial/DQN/DQN/Gym_stats/InvertedPendulum-v1/sparsemax/sparsebellman/high/midlarge/0001/openaigym.video.8.28550.video003940.mp4\n",
      "[2017-09-06 22:27:53,694] Starting new video recorder writing to /home/kj/TestCodes/MyTrial/DQN/DQN/Gym_stats/InvertedPendulum-v1/sparsemax/sparsebellman/high/midlarge/0001/openaigym.video.8.28550.video003950.mp4\n",
      "[2017-09-06 22:28:07,010] Starting new video recorder writing to /home/kj/TestCodes/MyTrial/DQN/DQN/Gym_stats/InvertedPendulum-v1/sparsemax/sparsebellman/high/midlarge/0001/openaigym.video.8.28550.video003960.mp4\n",
      "[2017-09-06 22:28:20,344] Starting new video recorder writing to /home/kj/TestCodes/MyTrial/DQN/DQN/Gym_stats/InvertedPendulum-v1/sparsemax/sparsebellman/high/midlarge/0001/openaigym.video.8.28550.video003970.mp4\n",
      "[2017-09-06 22:28:33,662] Starting new video recorder writing to /home/kj/TestCodes/MyTrial/DQN/DQN/Gym_stats/InvertedPendulum-v1/sparsemax/sparsebellman/high/midlarge/0001/openaigym.video.8.28550.video003980.mp4\n",
      "[2017-09-06 22:28:46,917] Starting new video recorder writing to /home/kj/TestCodes/MyTrial/DQN/DQN/Gym_stats/InvertedPendulum-v1/sparsemax/sparsebellman/high/midlarge/0001/openaigym.video.8.28550.video003990.mp4\n",
      "[2017-09-06 22:29:00,270] Finished writing results. You can upload them to the scoreboard via gym.upload('/home/kj/TestCodes/MyTrial/DQN/DQN/Gym_stats/InvertedPendulum-v1/sparsemax/sparsebellman/high/midlarge/0001')\n"
     ]
    },
    {
     "name": "stdout",
     "output_type": "stream",
     "text": [
      "Final mean reward, averaged over 1 experiment: 1000.0 (std = 0.0).\n",
      "Average episode duration: 962.407723 ms\n",
      "Average final reward: 1000.00 (std=0.00).\n",
      "\n",
      "The 100-episode moving average reached 930 after 850 episodes.\n",
      "Problem: InvertedPendulum-v1, Actions: 1001, Temp: 0.01, Strategy: sparsemax, Backup: sparsebellman\n"
     ]
    },
    {
     "name": "stderr",
     "output_type": "stream",
     "text": [
      "[2017-09-06 22:29:04,966] Making new env: InvertedPendulum-v1\n",
      "[2017-09-06 22:29:04,970] Making new env: InvertedPendulum-v1\n"
     ]
    },
    {
     "name": "stdout",
     "output_type": "stream",
     "text": [
      "\n",
      "EXECUTING EXPERIMENT 0 OF 1 IN ENVIRONMENT InvertedPendulum-v1.\n",
      "Minimum average reward reached. Stop training and exploration.\n"
     ]
    },
    {
     "name": "stderr",
     "output_type": "stream",
     "text": [
      "[2017-09-07 00:07:02,945] Starting new video recorder writing to /home/kj/TestCodes/MyTrial/DQN/DQN/Gym_stats/InvertedPendulum-v1/sparsemax/sparsebellman/low/midlarge/0001/openaigym.video.9.28550.video003910.mp4\n",
      "[2017-09-07 00:07:15,579] Starting new video recorder writing to /home/kj/TestCodes/MyTrial/DQN/DQN/Gym_stats/InvertedPendulum-v1/sparsemax/sparsebellman/low/midlarge/0001/openaigym.video.9.28550.video003920.mp4\n",
      "[2017-09-07 00:07:28,213] Starting new video recorder writing to /home/kj/TestCodes/MyTrial/DQN/DQN/Gym_stats/InvertedPendulum-v1/sparsemax/sparsebellman/low/midlarge/0001/openaigym.video.9.28550.video003930.mp4\n",
      "[2017-09-07 00:07:40,795] Starting new video recorder writing to /home/kj/TestCodes/MyTrial/DQN/DQN/Gym_stats/InvertedPendulum-v1/sparsemax/sparsebellman/low/midlarge/0001/openaigym.video.9.28550.video003940.mp4\n",
      "[2017-09-07 00:07:53,379] Starting new video recorder writing to /home/kj/TestCodes/MyTrial/DQN/DQN/Gym_stats/InvertedPendulum-v1/sparsemax/sparsebellman/low/midlarge/0001/openaigym.video.9.28550.video003950.mp4\n",
      "[2017-09-07 00:08:05,977] Starting new video recorder writing to /home/kj/TestCodes/MyTrial/DQN/DQN/Gym_stats/InvertedPendulum-v1/sparsemax/sparsebellman/low/midlarge/0001/openaigym.video.9.28550.video003960.mp4\n",
      "[2017-09-07 00:08:18,468] Starting new video recorder writing to /home/kj/TestCodes/MyTrial/DQN/DQN/Gym_stats/InvertedPendulum-v1/sparsemax/sparsebellman/low/midlarge/0001/openaigym.video.9.28550.video003970.mp4\n",
      "[2017-09-07 00:08:31,090] Starting new video recorder writing to /home/kj/TestCodes/MyTrial/DQN/DQN/Gym_stats/InvertedPendulum-v1/sparsemax/sparsebellman/low/midlarge/0001/openaigym.video.9.28550.video003980.mp4\n",
      "[2017-09-07 00:08:43,635] Starting new video recorder writing to /home/kj/TestCodes/MyTrial/DQN/DQN/Gym_stats/InvertedPendulum-v1/sparsemax/sparsebellman/low/midlarge/0001/openaigym.video.9.28550.video003990.mp4\n",
      "[2017-09-07 00:08:56,220] Finished writing results. You can upload them to the scoreboard via gym.upload('/home/kj/TestCodes/MyTrial/DQN/DQN/Gym_stats/InvertedPendulum-v1/sparsemax/sparsebellman/low/midlarge/0001')\n"
     ]
    },
    {
     "name": "stdout",
     "output_type": "stream",
     "text": [
      "Final mean reward, averaged over 1 experiment: 1000.0 (std = 0.0).\n",
      "Average episode duration: 1497.696691 ms\n",
      "Average final reward: 1000.00 (std=0.00).\n",
      "\n",
      "The 100-episode moving average reached 930 after 734 episodes.\n",
      "Problem: InvertedPendulum-v1, Actions: 101, Temp: 0.01, Strategy: sparsemax, Backup: bellman\n"
     ]
    },
    {
     "name": "stderr",
     "output_type": "stream",
     "text": [
      "[2017-09-07 00:09:00,633] Making new env: InvertedPendulum-v1\n",
      "[2017-09-07 00:09:00,637] Making new env: InvertedPendulum-v1\n"
     ]
    },
    {
     "name": "stdout",
     "output_type": "stream",
     "text": [
      "\n",
      "EXECUTING EXPERIMENT 0 OF 1 IN ENVIRONMENT InvertedPendulum-v1.\n",
      "Minimum average reward reached. Stop training and exploration.\n"
     ]
    },
    {
     "name": "stderr",
     "output_type": "stream",
     "text": [
      "[2017-09-07 00:50:43,238] Starting new video recorder writing to /home/kj/TestCodes/MyTrial/DQN/DQN/Gym_stats/InvertedPendulum-v1/sparsemax/bellman/low/midsmall/0001/openaigym.video.10.28550.video003910.mp4\n",
      "[2017-09-07 00:50:55,344] Starting new video recorder writing to /home/kj/TestCodes/MyTrial/DQN/DQN/Gym_stats/InvertedPendulum-v1/sparsemax/bellman/low/midsmall/0001/openaigym.video.10.28550.video003920.mp4\n",
      "[2017-09-07 00:51:07,545] Starting new video recorder writing to /home/kj/TestCodes/MyTrial/DQN/DQN/Gym_stats/InvertedPendulum-v1/sparsemax/bellman/low/midsmall/0001/openaigym.video.10.28550.video003930.mp4\n",
      "[2017-09-07 00:51:19,669] Starting new video recorder writing to /home/kj/TestCodes/MyTrial/DQN/DQN/Gym_stats/InvertedPendulum-v1/sparsemax/bellman/low/midsmall/0001/openaigym.video.10.28550.video003940.mp4\n",
      "[2017-09-07 00:51:31,930] Starting new video recorder writing to /home/kj/TestCodes/MyTrial/DQN/DQN/Gym_stats/InvertedPendulum-v1/sparsemax/bellman/low/midsmall/0001/openaigym.video.10.28550.video003950.mp4\n",
      "[2017-09-07 00:51:44,087] Starting new video recorder writing to /home/kj/TestCodes/MyTrial/DQN/DQN/Gym_stats/InvertedPendulum-v1/sparsemax/bellman/low/midsmall/0001/openaigym.video.10.28550.video003960.mp4\n",
      "[2017-09-07 00:51:56,306] Starting new video recorder writing to /home/kj/TestCodes/MyTrial/DQN/DQN/Gym_stats/InvertedPendulum-v1/sparsemax/bellman/low/midsmall/0001/openaigym.video.10.28550.video003970.mp4\n",
      "[2017-09-07 00:52:08,486] Starting new video recorder writing to /home/kj/TestCodes/MyTrial/DQN/DQN/Gym_stats/InvertedPendulum-v1/sparsemax/bellman/low/midsmall/0001/openaigym.video.10.28550.video003980.mp4\n",
      "[2017-09-07 00:52:20,578] Starting new video recorder writing to /home/kj/TestCodes/MyTrial/DQN/DQN/Gym_stats/InvertedPendulum-v1/sparsemax/bellman/low/midsmall/0001/openaigym.video.10.28550.video003990.mp4\n",
      "[2017-09-07 00:52:32,798] Finished writing results. You can upload them to the scoreboard via gym.upload('/home/kj/TestCodes/MyTrial/DQN/DQN/Gym_stats/InvertedPendulum-v1/sparsemax/bellman/low/midsmall/0001')\n"
     ]
    },
    {
     "name": "stdout",
     "output_type": "stream",
     "text": [
      "Final mean reward, averaged over 1 experiment: 1000.0 (std = 0.0).\n",
      "Average episode duration: 652.934307 ms\n",
      "Average final reward: 1000.00 (std=0.00).\n",
      "\n",
      "The 100-episode moving average reached 930 after 482 episodes.\n",
      "Problem: InvertedPendulum-v1, Actions: 101, Temp: 0.1, Strategy: softmax, Backup: bellman\n"
     ]
    },
    {
     "name": "stderr",
     "output_type": "stream",
     "text": [
      "[2017-09-07 00:52:37,061] Making new env: InvertedPendulum-v1\n",
      "[2017-09-07 00:52:37,066] Making new env: InvertedPendulum-v1\n"
     ]
    },
    {
     "name": "stdout",
     "output_type": "stream",
     "text": [
      "\n",
      "EXECUTING EXPERIMENT 0 OF 1 IN ENVIRONMENT InvertedPendulum-v1.\n",
      "Minimum average reward reached. Stop training and exploration.\n"
     ]
    },
    {
     "name": "stderr",
     "output_type": "stream",
     "text": [
      "[2017-09-07 01:38:01,187] Starting new video recorder writing to /home/kj/TestCodes/MyTrial/DQN/DQN/Gym_stats/InvertedPendulum-v1/softmax/bellman/mid/midsmall/0001/openaigym.video.11.28550.video003910.mp4\n",
      "[2017-09-07 01:38:13,315] Starting new video recorder writing to /home/kj/TestCodes/MyTrial/DQN/DQN/Gym_stats/InvertedPendulum-v1/softmax/bellman/mid/midsmall/0001/openaigym.video.11.28550.video003920.mp4\n",
      "[2017-09-07 01:38:25,417] Starting new video recorder writing to /home/kj/TestCodes/MyTrial/DQN/DQN/Gym_stats/InvertedPendulum-v1/softmax/bellman/mid/midsmall/0001/openaigym.video.11.28550.video003930.mp4\n",
      "[2017-09-07 01:38:37,438] Starting new video recorder writing to /home/kj/TestCodes/MyTrial/DQN/DQN/Gym_stats/InvertedPendulum-v1/softmax/bellman/mid/midsmall/0001/openaigym.video.11.28550.video003940.mp4\n",
      "[2017-09-07 01:38:49,574] Starting new video recorder writing to /home/kj/TestCodes/MyTrial/DQN/DQN/Gym_stats/InvertedPendulum-v1/softmax/bellman/mid/midsmall/0001/openaigym.video.11.28550.video003950.mp4\n",
      "[2017-09-07 01:39:01,654] Starting new video recorder writing to /home/kj/TestCodes/MyTrial/DQN/DQN/Gym_stats/InvertedPendulum-v1/softmax/bellman/mid/midsmall/0001/openaigym.video.11.28550.video003960.mp4\n",
      "[2017-09-07 01:39:13,700] Starting new video recorder writing to /home/kj/TestCodes/MyTrial/DQN/DQN/Gym_stats/InvertedPendulum-v1/softmax/bellman/mid/midsmall/0001/openaigym.video.11.28550.video003970.mp4\n",
      "[2017-09-07 01:39:25,719] Starting new video recorder writing to /home/kj/TestCodes/MyTrial/DQN/DQN/Gym_stats/InvertedPendulum-v1/softmax/bellman/mid/midsmall/0001/openaigym.video.11.28550.video003980.mp4\n",
      "[2017-09-07 01:39:37,745] Starting new video recorder writing to /home/kj/TestCodes/MyTrial/DQN/DQN/Gym_stats/InvertedPendulum-v1/softmax/bellman/mid/midsmall/0001/openaigym.video.11.28550.video003990.mp4\n",
      "[2017-09-07 01:39:49,843] Finished writing results. You can upload them to the scoreboard via gym.upload('/home/kj/TestCodes/MyTrial/DQN/DQN/Gym_stats/InvertedPendulum-v1/softmax/bellman/mid/midsmall/0001')\n"
     ]
    },
    {
     "name": "stdout",
     "output_type": "stream",
     "text": [
      "Final mean reward, averaged over 1 experiment: 1000.0 (std = 0.0).\n",
      "Average episode duration: 708.085303 ms\n",
      "Average final reward: 1000.00 (std=0.00).\n",
      "\n",
      "The 100-episode moving average reached 930 after 754 episodes.\n",
      "Problem: InvertedPendulum-v1, Actions: 101, Temp: 0.1, Strategy: sparsemax, Backup: softbellman\n"
     ]
    },
    {
     "name": "stderr",
     "output_type": "stream",
     "text": [
      "[2017-09-07 01:39:54,275] Making new env: InvertedPendulum-v1\n",
      "[2017-09-07 01:39:54,279] Making new env: InvertedPendulum-v1\n"
     ]
    },
    {
     "name": "stdout",
     "output_type": "stream",
     "text": [
      "\n",
      "EXECUTING EXPERIMENT 0 OF 1 IN ENVIRONMENT InvertedPendulum-v1.\n",
      "Minimum average reward reached. Stop training and exploration.\n"
     ]
    },
    {
     "name": "stderr",
     "output_type": "stream",
     "text": [
      "[2017-09-07 03:00:45,061] Starting new video recorder writing to /home/kj/TestCodes/MyTrial/DQN/DQN/Gym_stats/InvertedPendulum-v1/sparsemax/softbellman/mid/midsmall/0001/openaigym.video.12.28550.video003910.mp4\n",
      "[2017-09-07 03:00:57,322] Starting new video recorder writing to /home/kj/TestCodes/MyTrial/DQN/DQN/Gym_stats/InvertedPendulum-v1/sparsemax/softbellman/mid/midsmall/0001/openaigym.video.12.28550.video003920.mp4\n",
      "[2017-09-07 03:01:09,319] Starting new video recorder writing to /home/kj/TestCodes/MyTrial/DQN/DQN/Gym_stats/InvertedPendulum-v1/sparsemax/softbellman/mid/midsmall/0001/openaigym.video.12.28550.video003930.mp4\n",
      "[2017-09-07 03:01:21,064] Starting new video recorder writing to /home/kj/TestCodes/MyTrial/DQN/DQN/Gym_stats/InvertedPendulum-v1/sparsemax/softbellman/mid/midsmall/0001/openaigym.video.12.28550.video003940.mp4\n",
      "[2017-09-07 03:01:33,363] Starting new video recorder writing to /home/kj/TestCodes/MyTrial/DQN/DQN/Gym_stats/InvertedPendulum-v1/sparsemax/softbellman/mid/midsmall/0001/openaigym.video.12.28550.video003950.mp4\n",
      "[2017-09-07 03:01:45,265] Starting new video recorder writing to /home/kj/TestCodes/MyTrial/DQN/DQN/Gym_stats/InvertedPendulum-v1/sparsemax/softbellman/mid/midsmall/0001/openaigym.video.12.28550.video003960.mp4\n",
      "[2017-09-07 03:01:57,215] Starting new video recorder writing to /home/kj/TestCodes/MyTrial/DQN/DQN/Gym_stats/InvertedPendulum-v1/sparsemax/softbellman/mid/midsmall/0001/openaigym.video.12.28550.video003970.mp4\n",
      "[2017-09-07 03:02:09,010] Starting new video recorder writing to /home/kj/TestCodes/MyTrial/DQN/DQN/Gym_stats/InvertedPendulum-v1/sparsemax/softbellman/mid/midsmall/0001/openaigym.video.12.28550.video003980.mp4\n",
      "[2017-09-07 03:02:21,171] Starting new video recorder writing to /home/kj/TestCodes/MyTrial/DQN/DQN/Gym_stats/InvertedPendulum-v1/sparsemax/softbellman/mid/midsmall/0001/openaigym.video.12.28550.video003990.mp4\n",
      "[2017-09-07 03:02:33,154] Finished writing results. You can upload them to the scoreboard via gym.upload('/home/kj/TestCodes/MyTrial/DQN/DQN/Gym_stats/InvertedPendulum-v1/sparsemax/softbellman/mid/midsmall/0001')\n"
     ]
    },
    {
     "name": "stdout",
     "output_type": "stream",
     "text": [
      "Final mean reward, averaged over 1 experiment: 957.676767677 (std = 0.0).\n",
      "Average episode duration: 1239.612504 ms\n",
      "Average final reward: 958.10 (std=148.24).\n",
      "\n",
      "The 100-episode moving average reached 930 after 605 episodes.\n",
      "Problem: InvertedPendulum-v1, Actions: 101, Temp: 1, Strategy: sparsemax, Backup: sparsebellman\n"
     ]
    },
    {
     "name": "stderr",
     "output_type": "stream",
     "text": [
      "[2017-09-07 03:02:37,732] Making new env: InvertedPendulum-v1\n",
      "[2017-09-07 03:02:37,736] Making new env: InvertedPendulum-v1\n"
     ]
    },
    {
     "name": "stdout",
     "output_type": "stream",
     "text": [
      "\n",
      "EXECUTING EXPERIMENT 0 OF 1 IN ENVIRONMENT InvertedPendulum-v1.\n",
      "Minimum average reward reached. Stop training and exploration.\n"
     ]
    },
    {
     "name": "stderr",
     "output_type": "stream",
     "text": [
      "[2017-09-07 03:40:57,746] Starting new video recorder writing to /home/kj/TestCodes/MyTrial/DQN/DQN/Gym_stats/InvertedPendulum-v1/sparsemax/sparsebellman/high/midsmall/0001/openaigym.video.13.28550.video003910.mp4\n",
      "[2017-09-07 03:41:10,128] Starting new video recorder writing to /home/kj/TestCodes/MyTrial/DQN/DQN/Gym_stats/InvertedPendulum-v1/sparsemax/sparsebellman/high/midsmall/0001/openaigym.video.13.28550.video003920.mp4\n",
      "[2017-09-07 03:41:22,351] Starting new video recorder writing to /home/kj/TestCodes/MyTrial/DQN/DQN/Gym_stats/InvertedPendulum-v1/sparsemax/sparsebellman/high/midsmall/0001/openaigym.video.13.28550.video003930.mp4\n",
      "[2017-09-07 03:41:34,583] Starting new video recorder writing to /home/kj/TestCodes/MyTrial/DQN/DQN/Gym_stats/InvertedPendulum-v1/sparsemax/sparsebellman/high/midsmall/0001/openaigym.video.13.28550.video003940.mp4\n",
      "[2017-09-07 03:41:46,932] Starting new video recorder writing to /home/kj/TestCodes/MyTrial/DQN/DQN/Gym_stats/InvertedPendulum-v1/sparsemax/sparsebellman/high/midsmall/0001/openaigym.video.13.28550.video003950.mp4\n",
      "[2017-09-07 03:41:59,151] Starting new video recorder writing to /home/kj/TestCodes/MyTrial/DQN/DQN/Gym_stats/InvertedPendulum-v1/sparsemax/sparsebellman/high/midsmall/0001/openaigym.video.13.28550.video003960.mp4\n",
      "[2017-09-07 03:42:11,326] Starting new video recorder writing to /home/kj/TestCodes/MyTrial/DQN/DQN/Gym_stats/InvertedPendulum-v1/sparsemax/sparsebellman/high/midsmall/0001/openaigym.video.13.28550.video003970.mp4\n",
      "[2017-09-07 03:42:23,551] Starting new video recorder writing to /home/kj/TestCodes/MyTrial/DQN/DQN/Gym_stats/InvertedPendulum-v1/sparsemax/sparsebellman/high/midsmall/0001/openaigym.video.13.28550.video003980.mp4\n",
      "[2017-09-07 03:42:35,772] Starting new video recorder writing to /home/kj/TestCodes/MyTrial/DQN/DQN/Gym_stats/InvertedPendulum-v1/sparsemax/sparsebellman/high/midsmall/0001/openaigym.video.13.28550.video003990.mp4\n",
      "[2017-09-07 03:42:48,004] Finished writing results. You can upload them to the scoreboard via gym.upload('/home/kj/TestCodes/MyTrial/DQN/DQN/Gym_stats/InvertedPendulum-v1/sparsemax/sparsebellman/high/midsmall/0001')\n"
     ]
    },
    {
     "name": "stdout",
     "output_type": "stream",
     "text": [
      "Final mean reward, averaged over 1 experiment: 1000.0 (std = 0.0).\n",
      "Average episode duration: 602.457017 ms\n",
      "Average final reward: 1000.00 (std=0.00).\n",
      "\n",
      "The 100-episode moving average reached 930 after 592 episodes.\n",
      "Problem: InvertedPendulum-v1, Actions: 101, Temp: 0.01, Strategy: sparsemax, Backup: sparsebellman\n"
     ]
    },
    {
     "name": "stderr",
     "output_type": "stream",
     "text": [
      "[2017-09-07 03:42:52,527] Making new env: InvertedPendulum-v1\n",
      "[2017-09-07 03:42:52,531] Making new env: InvertedPendulum-v1\n"
     ]
    },
    {
     "name": "stdout",
     "output_type": "stream",
     "text": [
      "\n",
      "EXECUTING EXPERIMENT 0 OF 1 IN ENVIRONMENT InvertedPendulum-v1.\n"
     ]
    },
    {
     "name": "stderr",
     "output_type": "stream",
     "text": [
      "[2017-09-07 03:48:25,237] Starting new video recorder writing to /home/kj/TestCodes/MyTrial/DQN/DQN/Gym_stats/InvertedPendulum-v1/sparsemax/sparsebellman/low/midsmall/0001/openaigym.video.14.28550.video003910.mp4\n",
      "[2017-09-07 03:48:26,150] Starting new video recorder writing to /home/kj/TestCodes/MyTrial/DQN/DQN/Gym_stats/InvertedPendulum-v1/sparsemax/sparsebellman/low/midsmall/0001/openaigym.video.14.28550.video003920.mp4\n",
      "[2017-09-07 03:48:26,606] Starting new video recorder writing to /home/kj/TestCodes/MyTrial/DQN/DQN/Gym_stats/InvertedPendulum-v1/sparsemax/sparsebellman/low/midsmall/0001/openaigym.video.14.28550.video003930.mp4\n",
      "[2017-09-07 03:48:27,294] Starting new video recorder writing to /home/kj/TestCodes/MyTrial/DQN/DQN/Gym_stats/InvertedPendulum-v1/sparsemax/sparsebellman/low/midsmall/0001/openaigym.video.14.28550.video003940.mp4\n",
      "[2017-09-07 03:48:27,898] Starting new video recorder writing to /home/kj/TestCodes/MyTrial/DQN/DQN/Gym_stats/InvertedPendulum-v1/sparsemax/sparsebellman/low/midsmall/0001/openaigym.video.14.28550.video003950.mp4\n",
      "[2017-09-07 03:48:28,454] Starting new video recorder writing to /home/kj/TestCodes/MyTrial/DQN/DQN/Gym_stats/InvertedPendulum-v1/sparsemax/sparsebellman/low/midsmall/0001/openaigym.video.14.28550.video003960.mp4\n",
      "[2017-09-07 03:48:28,903] Starting new video recorder writing to /home/kj/TestCodes/MyTrial/DQN/DQN/Gym_stats/InvertedPendulum-v1/sparsemax/sparsebellman/low/midsmall/0001/openaigym.video.14.28550.video003970.mp4\n",
      "[2017-09-07 03:48:29,623] Starting new video recorder writing to /home/kj/TestCodes/MyTrial/DQN/DQN/Gym_stats/InvertedPendulum-v1/sparsemax/sparsebellman/low/midsmall/0001/openaigym.video.14.28550.video003980.mp4\n",
      "[2017-09-07 03:48:30,144] Starting new video recorder writing to /home/kj/TestCodes/MyTrial/DQN/DQN/Gym_stats/InvertedPendulum-v1/sparsemax/sparsebellman/low/midsmall/0001/openaigym.video.14.28550.video003990.mp4\n",
      "[2017-09-07 03:48:30,863] Finished writing results. You can upload them to the scoreboard via gym.upload('/home/kj/TestCodes/MyTrial/DQN/DQN/Gym_stats/InvertedPendulum-v1/sparsemax/sparsebellman/low/midsmall/0001')\n"
     ]
    },
    {
     "name": "stdout",
     "output_type": "stream",
     "text": [
      "Final mean reward, averaged over 1 experiment: 14.4141414141 (std = 0.0).\n",
      "Average episode duration: 84.472174 ms\n",
      "Average final reward: 14.36 (std=10.00).\n",
      "\n",
      "The 100-episode moving average reached 930 after 0 episodes.\n",
      "Problem: InvertedPendulum-v1, Actions: 3, Temp: 0.01, Strategy: sparsemax, Backup: bellman\n"
     ]
    },
    {
     "name": "stderr",
     "output_type": "stream",
     "text": [
      "[2017-09-07 03:48:35,604] Making new env: InvertedPendulum-v1\n",
      "[2017-09-07 03:48:35,609] Making new env: InvertedPendulum-v1\n"
     ]
    },
    {
     "name": "stdout",
     "output_type": "stream",
     "text": [
      "\n",
      "EXECUTING EXPERIMENT 0 OF 1 IN ENVIRONMENT InvertedPendulum-v1.\n",
      "Minimum average reward reached. Stop training and exploration.\n"
     ]
    },
    {
     "name": "stderr",
     "output_type": "stream",
     "text": [
      "[2017-09-07 05:15:49,701] Starting new video recorder writing to /home/kj/TestCodes/MyTrial/DQN/DQN/Gym_stats/InvertedPendulum-v1/sparsemax/bellman/low/small/0001/openaigym.video.15.28550.video003910.mp4\n",
      "[2017-09-07 05:16:02,045] Starting new video recorder writing to /home/kj/TestCodes/MyTrial/DQN/DQN/Gym_stats/InvertedPendulum-v1/sparsemax/bellman/low/small/0001/openaigym.video.15.28550.video003920.mp4\n",
      "[2017-09-07 05:16:14,249] Starting new video recorder writing to /home/kj/TestCodes/MyTrial/DQN/DQN/Gym_stats/InvertedPendulum-v1/sparsemax/bellman/low/small/0001/openaigym.video.15.28550.video003930.mp4\n",
      "[2017-09-07 05:16:26,456] Starting new video recorder writing to /home/kj/TestCodes/MyTrial/DQN/DQN/Gym_stats/InvertedPendulum-v1/sparsemax/bellman/low/small/0001/openaigym.video.15.28550.video003940.mp4\n",
      "[2017-09-07 05:16:38,338] Starting new video recorder writing to /home/kj/TestCodes/MyTrial/DQN/DQN/Gym_stats/InvertedPendulum-v1/sparsemax/bellman/low/small/0001/openaigym.video.15.28550.video003950.mp4\n",
      "[2017-09-07 05:16:50,561] Starting new video recorder writing to /home/kj/TestCodes/MyTrial/DQN/DQN/Gym_stats/InvertedPendulum-v1/sparsemax/bellman/low/small/0001/openaigym.video.15.28550.video003960.mp4\n",
      "[2017-09-07 05:17:02,360] Starting new video recorder writing to /home/kj/TestCodes/MyTrial/DQN/DQN/Gym_stats/InvertedPendulum-v1/sparsemax/bellman/low/small/0001/openaigym.video.15.28550.video003970.mp4\n",
      "[2017-09-07 05:17:14,078] Starting new video recorder writing to /home/kj/TestCodes/MyTrial/DQN/DQN/Gym_stats/InvertedPendulum-v1/sparsemax/bellman/low/small/0001/openaigym.video.15.28550.video003980.mp4\n",
      "[2017-09-07 05:17:26,291] Starting new video recorder writing to /home/kj/TestCodes/MyTrial/DQN/DQN/Gym_stats/InvertedPendulum-v1/sparsemax/bellman/low/small/0001/openaigym.video.15.28550.video003990.mp4\n",
      "[2017-09-07 05:17:38,609] Finished writing results. You can upload them to the scoreboard via gym.upload('/home/kj/TestCodes/MyTrial/DQN/DQN/Gym_stats/InvertedPendulum-v1/sparsemax/bellman/low/small/0001')\n"
     ]
    },
    {
     "name": "stdout",
     "output_type": "stream",
     "text": [
      "Final mean reward, averaged over 1 experiment: 969.787878788 (std = 0.0).\n",
      "Average episode duration: 1335.643686 ms\n",
      "Average final reward: 970.09 (std=136.30).\n",
      "\n",
      "The 100-episode moving average reached 930 after 1610 episodes.\n",
      "Problem: InvertedPendulum-v1, Actions: 3, Temp: 0.1, Strategy: softmax, Backup: bellman\n"
     ]
    },
    {
     "name": "stderr",
     "output_type": "stream",
     "text": [
      "[2017-09-07 05:17:43,237] Making new env: InvertedPendulum-v1\n",
      "[2017-09-07 05:17:43,241] Making new env: InvertedPendulum-v1\n"
     ]
    },
    {
     "name": "stdout",
     "output_type": "stream",
     "text": [
      "\n",
      "EXECUTING EXPERIMENT 0 OF 1 IN ENVIRONMENT InvertedPendulum-v1.\n",
      "Minimum average reward reached. Stop training and exploration.\n"
     ]
    },
    {
     "name": "stderr",
     "output_type": "stream",
     "text": [
      "[2017-09-07 06:33:25,872] Starting new video recorder writing to /home/kj/TestCodes/MyTrial/DQN/DQN/Gym_stats/InvertedPendulum-v1/softmax/bellman/mid/small/0001/openaigym.video.16.28550.video003910.mp4\n",
      "[2017-09-07 06:33:38,108] Starting new video recorder writing to /home/kj/TestCodes/MyTrial/DQN/DQN/Gym_stats/InvertedPendulum-v1/softmax/bellman/mid/small/0001/openaigym.video.16.28550.video003920.mp4\n",
      "[2017-09-07 06:33:50,501] Starting new video recorder writing to /home/kj/TestCodes/MyTrial/DQN/DQN/Gym_stats/InvertedPendulum-v1/softmax/bellman/mid/small/0001/openaigym.video.16.28550.video003930.mp4\n",
      "[2017-09-07 06:34:02,947] Starting new video recorder writing to /home/kj/TestCodes/MyTrial/DQN/DQN/Gym_stats/InvertedPendulum-v1/softmax/bellman/mid/small/0001/openaigym.video.16.28550.video003940.mp4\n",
      "[2017-09-07 06:34:15,414] Starting new video recorder writing to /home/kj/TestCodes/MyTrial/DQN/DQN/Gym_stats/InvertedPendulum-v1/softmax/bellman/mid/small/0001/openaigym.video.16.28550.video003950.mp4\n",
      "[2017-09-07 06:34:27,622] Starting new video recorder writing to /home/kj/TestCodes/MyTrial/DQN/DQN/Gym_stats/InvertedPendulum-v1/softmax/bellman/mid/small/0001/openaigym.video.16.28550.video003960.mp4\n",
      "[2017-09-07 06:34:39,849] Starting new video recorder writing to /home/kj/TestCodes/MyTrial/DQN/DQN/Gym_stats/InvertedPendulum-v1/softmax/bellman/mid/small/0001/openaigym.video.16.28550.video003970.mp4\n",
      "[2017-09-07 06:34:52,093] Starting new video recorder writing to /home/kj/TestCodes/MyTrial/DQN/DQN/Gym_stats/InvertedPendulum-v1/softmax/bellman/mid/small/0001/openaigym.video.16.28550.video003980.mp4\n",
      "[2017-09-07 06:35:04,341] Starting new video recorder writing to /home/kj/TestCodes/MyTrial/DQN/DQN/Gym_stats/InvertedPendulum-v1/softmax/bellman/mid/small/0001/openaigym.video.16.28550.video003990.mp4\n",
      "[2017-09-07 06:35:16,643] Finished writing results. You can upload them to the scoreboard via gym.upload('/home/kj/TestCodes/MyTrial/DQN/DQN/Gym_stats/InvertedPendulum-v1/softmax/bellman/mid/small/0001')\n"
     ]
    },
    {
     "name": "stdout",
     "output_type": "stream",
     "text": [
      "Final mean reward, averaged over 1 experiment: 1000.0 (std = 0.0).\n",
      "Average episode duration: 1163.243807 ms\n",
      "Average final reward: 1000.00 (std=0.00).\n",
      "\n",
      "The 100-episode moving average reached 930 after 1343 episodes.\n",
      "Problem: InvertedPendulum-v1, Actions: 3, Temp: 0.1, Strategy: sparsemax, Backup: softbellman\n"
     ]
    },
    {
     "name": "stderr",
     "output_type": "stream",
     "text": [
      "[2017-09-07 06:35:21,429] Making new env: InvertedPendulum-v1\n",
      "[2017-09-07 06:35:21,434] Making new env: InvertedPendulum-v1\n"
     ]
    },
    {
     "name": "stdout",
     "output_type": "stream",
     "text": [
      "\n",
      "EXECUTING EXPERIMENT 0 OF 1 IN ENVIRONMENT InvertedPendulum-v1.\n",
      "Minimum average reward reached. Stop training and exploration.\n"
     ]
    },
    {
     "name": "stderr",
     "output_type": "stream",
     "text": [
      "[2017-09-07 07:08:54,930] Starting new video recorder writing to /home/kj/TestCodes/MyTrial/DQN/DQN/Gym_stats/InvertedPendulum-v1/sparsemax/softbellman/mid/small/0001/openaigym.video.17.28550.video003910.mp4\n",
      "[2017-09-07 07:09:05,966] Starting new video recorder writing to /home/kj/TestCodes/MyTrial/DQN/DQN/Gym_stats/InvertedPendulum-v1/sparsemax/softbellman/mid/small/0001/openaigym.video.17.28550.video003920.mp4\n",
      "[2017-09-07 07:09:16,944] Starting new video recorder writing to /home/kj/TestCodes/MyTrial/DQN/DQN/Gym_stats/InvertedPendulum-v1/sparsemax/softbellman/mid/small/0001/openaigym.video.17.28550.video003930.mp4\n",
      "[2017-09-07 07:09:27,830] Starting new video recorder writing to /home/kj/TestCodes/MyTrial/DQN/DQN/Gym_stats/InvertedPendulum-v1/sparsemax/softbellman/mid/small/0001/openaigym.video.17.28550.video003940.mp4\n",
      "[2017-09-07 07:09:38,764] Starting new video recorder writing to /home/kj/TestCodes/MyTrial/DQN/DQN/Gym_stats/InvertedPendulum-v1/sparsemax/softbellman/mid/small/0001/openaigym.video.17.28550.video003950.mp4\n",
      "[2017-09-07 07:09:49,656] Starting new video recorder writing to /home/kj/TestCodes/MyTrial/DQN/DQN/Gym_stats/InvertedPendulum-v1/sparsemax/softbellman/mid/small/0001/openaigym.video.17.28550.video003960.mp4\n",
      "[2017-09-07 07:10:00,542] Starting new video recorder writing to /home/kj/TestCodes/MyTrial/DQN/DQN/Gym_stats/InvertedPendulum-v1/sparsemax/softbellman/mid/small/0001/openaigym.video.17.28550.video003970.mp4\n",
      "[2017-09-07 07:10:11,547] Starting new video recorder writing to /home/kj/TestCodes/MyTrial/DQN/DQN/Gym_stats/InvertedPendulum-v1/sparsemax/softbellman/mid/small/0001/openaigym.video.17.28550.video003980.mp4\n",
      "[2017-09-07 07:10:22,503] Starting new video recorder writing to /home/kj/TestCodes/MyTrial/DQN/DQN/Gym_stats/InvertedPendulum-v1/sparsemax/softbellman/mid/small/0001/openaigym.video.17.28550.video003990.mp4\n",
      "[2017-09-07 07:10:33,495] Finished writing results. You can upload them to the scoreboard via gym.upload('/home/kj/TestCodes/MyTrial/DQN/DQN/Gym_stats/InvertedPendulum-v1/sparsemax/softbellman/mid/small/0001')\n"
     ]
    },
    {
     "name": "stdout",
     "output_type": "stream",
     "text": [
      "Final mean reward, averaged over 1 experiment: 1000.0 (std = 0.0).\n",
      "Average episode duration: 527.910388 ms\n",
      "Average final reward: 1000.00 (std=0.00).\n",
      "\n",
      "The 100-episode moving average reached 930 after 933 episodes.\n",
      "Problem: InvertedPendulum-v1, Actions: 3, Temp: 1, Strategy: sparsemax, Backup: sparsebellman\n"
     ]
    },
    {
     "name": "stderr",
     "output_type": "stream",
     "text": [
      "[2017-09-07 07:10:37,518] Making new env: InvertedPendulum-v1\n",
      "[2017-09-07 07:10:37,522] Making new env: InvertedPendulum-v1\n"
     ]
    },
    {
     "name": "stdout",
     "output_type": "stream",
     "text": [
      "\n",
      "EXECUTING EXPERIMENT 0 OF 1 IN ENVIRONMENT InvertedPendulum-v1.\n",
      "Minimum average reward reached. Stop training and exploration.\n"
     ]
    },
    {
     "name": "stderr",
     "output_type": "stream",
     "text": [
      "[2017-09-07 07:51:14,759] Starting new video recorder writing to /home/kj/TestCodes/MyTrial/DQN/DQN/Gym_stats/InvertedPendulum-v1/sparsemax/sparsebellman/high/small/0001/openaigym.video.18.28550.video003910.mp4\n",
      "[2017-09-07 07:51:25,631] Starting new video recorder writing to /home/kj/TestCodes/MyTrial/DQN/DQN/Gym_stats/InvertedPendulum-v1/sparsemax/sparsebellman/high/small/0001/openaigym.video.18.28550.video003920.mp4\n",
      "[2017-09-07 07:51:36,537] Starting new video recorder writing to /home/kj/TestCodes/MyTrial/DQN/DQN/Gym_stats/InvertedPendulum-v1/sparsemax/sparsebellman/high/small/0001/openaigym.video.18.28550.video003930.mp4\n",
      "[2017-09-07 07:51:47,395] Starting new video recorder writing to /home/kj/TestCodes/MyTrial/DQN/DQN/Gym_stats/InvertedPendulum-v1/sparsemax/sparsebellman/high/small/0001/openaigym.video.18.28550.video003940.mp4\n",
      "[2017-09-07 07:51:58,369] Starting new video recorder writing to /home/kj/TestCodes/MyTrial/DQN/DQN/Gym_stats/InvertedPendulum-v1/sparsemax/sparsebellman/high/small/0001/openaigym.video.18.28550.video003950.mp4\n",
      "[2017-09-07 07:52:09,351] Starting new video recorder writing to /home/kj/TestCodes/MyTrial/DQN/DQN/Gym_stats/InvertedPendulum-v1/sparsemax/sparsebellman/high/small/0001/openaigym.video.18.28550.video003960.mp4\n",
      "[2017-09-07 07:52:20,219] Starting new video recorder writing to /home/kj/TestCodes/MyTrial/DQN/DQN/Gym_stats/InvertedPendulum-v1/sparsemax/sparsebellman/high/small/0001/openaigym.video.18.28550.video003970.mp4\n",
      "[2017-09-07 07:52:31,155] Starting new video recorder writing to /home/kj/TestCodes/MyTrial/DQN/DQN/Gym_stats/InvertedPendulum-v1/sparsemax/sparsebellman/high/small/0001/openaigym.video.18.28550.video003980.mp4\n",
      "[2017-09-07 07:52:42,039] Starting new video recorder writing to /home/kj/TestCodes/MyTrial/DQN/DQN/Gym_stats/InvertedPendulum-v1/sparsemax/sparsebellman/high/small/0001/openaigym.video.18.28550.video003990.mp4\n",
      "[2017-09-07 07:52:53,028] Finished writing results. You can upload them to the scoreboard via gym.upload('/home/kj/TestCodes/MyTrial/DQN/DQN/Gym_stats/InvertedPendulum-v1/sparsemax/sparsebellman/high/small/0001')\n"
     ]
    },
    {
     "name": "stdout",
     "output_type": "stream",
     "text": [
      "Final mean reward, averaged over 1 experiment: 1000.0 (std = 0.0).\n",
      "Average episode duration: 633.781198 ms\n",
      "Average final reward: 1000.00 (std=0.00).\n",
      "\n",
      "The 100-episode moving average reached 930 after 968 episodes.\n",
      "Problem: InvertedPendulum-v1, Actions: 3, Temp: 0.01, Strategy: sparsemax, Backup: sparsebellman\n"
     ]
    },
    {
     "name": "stderr",
     "output_type": "stream",
     "text": [
      "[2017-09-07 07:52:57,006] Making new env: InvertedPendulum-v1\n",
      "[2017-09-07 07:52:57,010] Making new env: InvertedPendulum-v1\n"
     ]
    },
    {
     "name": "stdout",
     "output_type": "stream",
     "text": [
      "\n",
      "EXECUTING EXPERIMENT 0 OF 1 IN ENVIRONMENT InvertedPendulum-v1.\n",
      "Minimum average reward reached. Stop training and exploration.\n"
     ]
    },
    {
     "name": "stderr",
     "output_type": "stream",
     "text": [
      "[2017-09-07 08:29:25,234] Starting new video recorder writing to /home/kj/TestCodes/MyTrial/DQN/DQN/Gym_stats/InvertedPendulum-v1/sparsemax/sparsebellman/low/small/0001/openaigym.video.19.28550.video003910.mp4\n",
      "[2017-09-07 08:29:36,144] Starting new video recorder writing to /home/kj/TestCodes/MyTrial/DQN/DQN/Gym_stats/InvertedPendulum-v1/sparsemax/sparsebellman/low/small/0001/openaigym.video.19.28550.video003920.mp4\n",
      "[2017-09-07 08:29:47,038] Starting new video recorder writing to /home/kj/TestCodes/MyTrial/DQN/DQN/Gym_stats/InvertedPendulum-v1/sparsemax/sparsebellman/low/small/0001/openaigym.video.19.28550.video003930.mp4\n",
      "[2017-09-07 08:29:57,907] Starting new video recorder writing to /home/kj/TestCodes/MyTrial/DQN/DQN/Gym_stats/InvertedPendulum-v1/sparsemax/sparsebellman/low/small/0001/openaigym.video.19.28550.video003940.mp4\n",
      "[2017-09-07 08:30:09,056] Starting new video recorder writing to /home/kj/TestCodes/MyTrial/DQN/DQN/Gym_stats/InvertedPendulum-v1/sparsemax/sparsebellman/low/small/0001/openaigym.video.19.28550.video003950.mp4\n",
      "[2017-09-07 08:30:20,188] Starting new video recorder writing to /home/kj/TestCodes/MyTrial/DQN/DQN/Gym_stats/InvertedPendulum-v1/sparsemax/sparsebellman/low/small/0001/openaigym.video.19.28550.video003960.mp4\n",
      "[2017-09-07 08:30:31,049] Starting new video recorder writing to /home/kj/TestCodes/MyTrial/DQN/DQN/Gym_stats/InvertedPendulum-v1/sparsemax/sparsebellman/low/small/0001/openaigym.video.19.28550.video003970.mp4\n",
      "[2017-09-07 08:30:41,907] Starting new video recorder writing to /home/kj/TestCodes/MyTrial/DQN/DQN/Gym_stats/InvertedPendulum-v1/sparsemax/sparsebellman/low/small/0001/openaigym.video.19.28550.video003980.mp4\n",
      "[2017-09-07 08:30:52,811] Starting new video recorder writing to /home/kj/TestCodes/MyTrial/DQN/DQN/Gym_stats/InvertedPendulum-v1/sparsemax/sparsebellman/low/small/0001/openaigym.video.19.28550.video003990.mp4\n",
      "[2017-09-07 08:31:03,794] Finished writing results. You can upload them to the scoreboard via gym.upload('/home/kj/TestCodes/MyTrial/DQN/DQN/Gym_stats/InvertedPendulum-v1/sparsemax/sparsebellman/low/small/0001')\n"
     ]
    },
    {
     "name": "stdout",
     "output_type": "stream",
     "text": [
      "Final mean reward, averaged over 1 experiment: 1000.0 (std = 0.0).\n",
      "Average episode duration: 571.599977 ms\n",
      "Average final reward: 1000.00 (std=0.00).\n",
      "\n",
      "The 100-episode moving average reached 930 after 900 episodes.\n",
      "InvertedPendulum-v1 is finished and is saved\n"
     ]
    }
   ],
   "source": [
    "strategies = [\"sparsemax\",\"softmax\",\"sparsemax\",\"sparsemax\",\"sparsemax\"]\n",
    "backuprules = [\"bellman\",\"bellman\",\"softbellman\",\"sparsebellman\",\"sparsebellman\"]\n",
    "temperatures = [0.01, 0.1, 0.1, 1, 0.01]\n",
    "temperatures_name = [\"low\",\"mid\",\"mid\",\"high\",\"low\"]\n",
    "\n",
    "action_res_list = [2001, 1001, 101, 3]\n",
    "action_res_name = [\"large\",\"midlarge\",\"midsmall\",\"small\"]\n",
    "\n",
    "env_name = \"InvertedPendulum-v1\"\n",
    "min_avg_rwd = 930\n",
    "stop_training_min_avg_rwd = 950\n",
    "layers_size = [512, 512]\n",
    "n_ep = 4000\n",
    "n_exps = 1\n",
    "\n",
    "figures_dir = 'Figures'\n",
    "api_key = '###'\n",
    "alg_id = '###'\n",
    "\n",
    "data = defaultdict(lambda : defaultdict(lambda : defaultdict(lambda : defaultdict(lambda : None))))\n",
    "for action_res, action_name in zip(action_res_list,action_res_name):\n",
    "    for temperature, temperature_name, strategy, backuprule in zip(temperatures, temperatures_name, strategies, backuprules):\n",
    "                gym_stats_dir_prefix = os.path.join('Gym_stats', \n",
    "                                                    env_name+'/'+str(strategy)+'/'+str(backuprule)+'/'+str(temperature_name)+'/'+str(action_name))\n",
    "                print(\"Problem: {}, Actions: {}, Temp: {}, Strategy: {}, Backup: {}\".format(env_name,np.prod(action_res),temperature,strategy,backuprule))\n",
    "                expsman = ExperimentsManager(env_name=env_name, agent_value_function_hidden_layers_size=layers_size,\n",
    "                                     figures_dir=figures_dir, discount=0.99, decay_eps=0.995, eps_min=1E-4, learning_rate=3E-4,\n",
    "                                     decay_lr=True, max_step=2000, replay_memory_max_size=100000, ep_verbose=False,\n",
    "                                     exp_verbose=False, learning_rate_end=3E-5, batch_size=128, upload_last_exp=False, double_dqn=True, dueling=False,\n",
    "                                     target_params_update_period_steps=75, replay_period_steps=4, min_avg_rwd=min_avg_rwd,\n",
    "                                     per_proportional_prioritization=True, per_apply_importance_sampling=True, per_alpha=0.2,\n",
    "                                     per_beta0=0.4,\n",
    "                                     results_dir_prefix=gym_stats_dir_prefix, gym_api_key=api_key, gym_algorithm_id=alg_id,\n",
    "                                     strategy=strategy,backuprule=backuprule,temperature=temperature,action_res=action_res,\n",
    "                                     video_recording=True)\n",
    "                _, _, Rwd_per_ep_v, Loss_per_ep_v = expsman.run_experiments(n_exps=n_exps, n_ep=n_ep, stop_training_min_avg_rwd=stop_training_min_avg_rwd, plot_results=False)\n",
    "                data[action_name][temperature_name][strategy][backuprule] = {\"reward_list\":Rwd_per_ep_v,\"loss_list\":Loss_per_ep_v}\n",
    "\n",
    "scipyio.savemat(env_name+\"_selected.mat\", data)\n",
    "print(\"{} is finished and is saved\".format(env_name))"
   ]
  }
 ],
 "metadata": {
  "kernelspec": {
   "display_name": "Python 2",
   "language": "python",
   "name": "python2"
  },
  "language_info": {
   "codemirror_mode": {
    "name": "ipython",
    "version": 2
   },
   "file_extension": ".py",
   "mimetype": "text/x-python",
   "name": "python",
   "nbconvert_exporter": "python",
   "pygments_lexer": "ipython2",
   "version": "2.7.12"
  }
 },
 "nbformat": 4,
 "nbformat_minor": 2
}
