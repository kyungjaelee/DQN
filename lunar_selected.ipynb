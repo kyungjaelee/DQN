{
 "cells": [
  {
   "cell_type": "code",
   "execution_count": null,
   "metadata": {},
   "outputs": [
    {
     "name": "stderr",
     "output_type": "stream",
     "text": [
      "/home/kj/.local/lib/python2.7/site-packages/requests/__init__.py:80: RequestsDependencyWarning: urllib3 (1.22) or chardet (2.3.0) doesn't match a supported version!\n",
      "  RequestsDependencyWarning)\n"
     ]
    }
   ],
   "source": [
    "import os\n",
    "from gymhelpers import ExperimentsManager\n",
    "import scipy.io as scipyio\n",
    "import numpy as np\n",
    "from collections import defaultdict"
   ]
  },
  {
   "cell_type": "code",
   "execution_count": null,
   "metadata": {
    "scrolled": false
   },
   "outputs": [
    {
     "name": "stdout",
     "output_type": "stream",
     "text": [
      "Problem: LunarLanderContinuous-v2, Actions: 2601, Temp: 1, Strategy: sparsemax, Backup: sparsebellman\n"
     ]
    },
    {
     "name": "stderr",
     "output_type": "stream",
     "text": [
      "[2017-08-11 11:22:17,410] Making new env: LunarLanderContinuous-v2\n",
      "[2017-08-11 11:22:17,891] Making new env: LunarLanderContinuous-v2\n"
     ]
    },
    {
     "name": "stdout",
     "output_type": "stream",
     "text": [
      "\n",
      "EXECUTING EXPERIMENT 0 OF 10 IN ENVIRONMENT LunarLanderContinuous-v2.\n",
      "Minimum average reward reached. Stop training and exploration.\n",
      "Final mean reward, averaged over 1 experiment: 194.867309309 (std = 0.0).\n"
     ]
    },
    {
     "name": "stderr",
     "output_type": "stream",
     "text": [
      "plot_utils.py:83: RuntimeWarning: invalid value encountered in divide\n",
      "  factor = higher_border / mu\n",
      "plot_utils.py:84: RuntimeWarning: divide by zero encountered in divide\n",
      "  lower_border = np.clip(lower_border, mu / factor, mu)\n",
      "[2017-08-11 13:52:22,570] Making new env: LunarLanderContinuous-v2\n"
     ]
    },
    {
     "name": "stdout",
     "output_type": "stream",
     "text": [
      "Average episode duration: 3000.837260 ms\n",
      "\n",
      "EXECUTING EXPERIMENT 1 OF 10 IN ENVIRONMENT LunarLanderContinuous-v2.\n",
      "Final mean reward, averaged over 2 experiments: 2.92988392521 (std = 191.937425384).\n"
     ]
    },
    {
     "name": "stderr",
     "output_type": "stream",
     "text": [
      "[2017-08-11 19:52:45,615] Making new env: LunarLanderContinuous-v2\n"
     ]
    },
    {
     "name": "stdout",
     "output_type": "stream",
     "text": [
      "Average episode duration: 7207.029297 ms\n",
      "\n",
      "EXECUTING EXPERIMENT 2 OF 10 IN ENVIRONMENT LunarLanderContinuous-v2.\n",
      "Final mean reward, averaged over 3 experiments: -122.228654775 (std = 236.409185794).\n"
     ]
    },
    {
     "name": "stderr",
     "output_type": "stream",
     "text": [
      "[2017-08-12 02:17:24,915] Making new env: LunarLanderContinuous-v2\n"
     ]
    },
    {
     "name": "stdout",
     "output_type": "stream",
     "text": [
      "Average episode duration: 7692.432230 ms\n",
      "\n",
      "EXECUTING EXPERIMENT 3 OF 10 IN ENVIRONMENT LunarLanderContinuous-v2.\n",
      "Final mean reward, averaged over 4 experiments: -139.065598715 (std = 206.802866009).\n"
     ]
    },
    {
     "name": "stderr",
     "output_type": "stream",
     "text": [
      "[2017-08-12 09:32:03,375] Making new env: LunarLanderContinuous-v2\n"
     ]
    },
    {
     "name": "stdout",
     "output_type": "stream",
     "text": [
      "Average episode duration: 8692.134651 ms\n",
      "\n",
      "EXECUTING EXPERIMENT 4 OF 10 IN ENVIRONMENT LunarLanderContinuous-v2.\n",
      "Final mean reward, averaged over 5 experiments: -143.643096405 (std = 185.196528726).\n"
     ]
    },
    {
     "name": "stderr",
     "output_type": "stream",
     "text": [
      "[2017-08-12 16:21:27,625] Making new env: LunarLanderContinuous-v2\n"
     ]
    },
    {
     "name": "stdout",
     "output_type": "stream",
     "text": [
      "Average episode duration: 8187.423949 ms\n",
      "\n",
      "EXECUTING EXPERIMENT 5 OF 10 IN ENVIRONMENT LunarLanderContinuous-v2.\n",
      "Final mean reward, averaged over 6 experiments: -135.079275066 (std = 170.141579446).\n"
     ]
    },
    {
     "name": "stderr",
     "output_type": "stream",
     "text": [
      "[2017-08-12 22:16:14,358] Making new env: LunarLanderContinuous-v2\n"
     ]
    },
    {
     "name": "stdout",
     "output_type": "stream",
     "text": [
      "Average episode duration: 7094.862618 ms\n",
      "\n",
      "EXECUTING EXPERIMENT 6 OF 10 IN ENVIRONMENT LunarLanderContinuous-v2.\n",
      "Final mean reward, averaged over 7 experiments: -156.093012211 (std = 165.717135327).\n"
     ]
    },
    {
     "name": "stderr",
     "output_type": "stream",
     "text": [
      "[2017-08-13 05:58:49,316] Making new env: LunarLanderContinuous-v2\n"
     ]
    },
    {
     "name": "stdout",
     "output_type": "stream",
     "text": [
      "Average episode duration: 9250.971691 ms\n",
      "\n",
      "EXECUTING EXPERIMENT 7 OF 10 IN ENVIRONMENT LunarLanderContinuous-v2.\n",
      "Final mean reward, averaged over 8 experiments: -188.891838736 (std = 177.650609268).\n"
     ]
    },
    {
     "name": "stderr",
     "output_type": "stream",
     "text": [
      "[2017-08-13 12:13:50,780] Making new env: LunarLanderContinuous-v2\n"
     ]
    },
    {
     "name": "stdout",
     "output_type": "stream",
     "text": [
      "Average episode duration: 7499.797739 ms\n",
      "\n",
      "EXECUTING EXPERIMENT 8 OF 10 IN ENVIRONMENT LunarLanderContinuous-v2.\n",
      "Final mean reward, averaged over 9 experiments: -208.046857388 (std = 176.035278357).\n"
     ]
    },
    {
     "name": "stderr",
     "output_type": "stream",
     "text": [
      "[2017-08-13 17:58:29,363] Making new env: LunarLanderContinuous-v2\n"
     ]
    },
    {
     "name": "stdout",
     "output_type": "stream",
     "text": [
      "Average episode duration: 6892.182268 ms\n",
      "\n",
      "EXECUTING EXPERIMENT 9 OF 10 IN ENVIRONMENT LunarLanderContinuous-v2.\n",
      "Final mean reward, averaged over 10 experiments: -279.581864744 (std = 271.928102262).\n",
      "Average episode duration: 8085.596619 ms\n",
      "Average final reward: -278.24 (std=95.68).\n",
      "\n",
      "The 100-episode moving average reached 200 after 0 episodes.\n",
      "Problem: LunarLanderContinuous-v2, Actions: 2601, Temp: 0.01, Strategy: softmax, Backup: softbellman\n"
     ]
    },
    {
     "name": "stderr",
     "output_type": "stream",
     "text": [
      "[2017-08-14 00:42:53,665] Making new env: LunarLanderContinuous-v2\n",
      "[2017-08-14 00:42:53,670] Making new env: LunarLanderContinuous-v2\n"
     ]
    },
    {
     "name": "stdout",
     "output_type": "stream",
     "text": [
      "\n",
      "EXECUTING EXPERIMENT 0 OF 10 IN ENVIRONMENT LunarLanderContinuous-v2.\n",
      "Final mean reward, averaged over 1 experiment: -502.603874028 (std = 0.0).\n"
     ]
    },
    {
     "name": "stderr",
     "output_type": "stream",
     "text": [
      "[2017-08-14 02:01:51,593] Making new env: LunarLanderContinuous-v2\n"
     ]
    },
    {
     "name": "stdout",
     "output_type": "stream",
     "text": [
      "Average episode duration: 1578.617101 ms\n",
      "\n",
      "EXECUTING EXPERIMENT 1 OF 10 IN ENVIRONMENT LunarLanderContinuous-v2.\n",
      "Final mean reward, averaged over 2 experiments: -163.112484113 (std = 339.491389915).\n"
     ]
    },
    {
     "name": "stderr",
     "output_type": "stream",
     "text": [
      "[2017-08-14 03:35:32,459] Making new env: LunarLanderContinuous-v2\n"
     ]
    },
    {
     "name": "stdout",
     "output_type": "stream",
     "text": [
      "Average episode duration: 1872.960691 ms\n",
      "\n",
      "EXECUTING EXPERIMENT 2 OF 10 IN ENVIRONMENT LunarLanderContinuous-v2.\n",
      "Minimum average reward reached. Stop training and exploration.\n",
      "Final mean reward, averaged over 3 experiments: -51.589337639 (std = 318.921767236).\n"
     ]
    },
    {
     "name": "stderr",
     "output_type": "stream",
     "text": [
      "[2017-08-14 04:53:28,402] Making new env: LunarLanderContinuous-v2\n"
     ]
    },
    {
     "name": "stdout",
     "output_type": "stream",
     "text": [
      "Average episode duration: 1557.984107 ms\n",
      "\n",
      "EXECUTING EXPERIMENT 3 OF 10 IN ENVIRONMENT LunarLanderContinuous-v2.\n",
      "Final mean reward, averaged over 4 experiments: -79.4044255671 (std = 280.364686724).\n"
     ]
    },
    {
     "name": "stderr",
     "output_type": "stream",
     "text": [
      "[2017-08-14 07:04:58,482] Making new env: LunarLanderContinuous-v2\n"
     ]
    },
    {
     "name": "stdout",
     "output_type": "stream",
     "text": [
      "Average episode duration: 2629.363632 ms\n",
      "\n",
      "EXECUTING EXPERIMENT 4 OF 10 IN ENVIRONMENT LunarLanderContinuous-v2.\n",
      "Final mean reward, averaged over 5 experiments: -111.705806664 (std = 258.953669471).\n"
     ]
    },
    {
     "name": "stderr",
     "output_type": "stream",
     "text": [
      "[2017-08-14 08:56:45,165] Making new env: LunarLanderContinuous-v2\n"
     ]
    },
    {
     "name": "stdout",
     "output_type": "stream",
     "text": [
      "Average episode duration: 2234.892274 ms\n",
      "\n",
      "EXECUTING EXPERIMENT 5 OF 10 IN ENVIRONMENT LunarLanderContinuous-v2.\n",
      "Final mean reward, averaged over 6 experiments: -174.768952215 (std = 275.255585613).\n"
     ]
    },
    {
     "name": "stderr",
     "output_type": "stream",
     "text": [
      "[2017-08-14 10:30:02,884] Making new env: LunarLanderContinuous-v2\n"
     ]
    },
    {
     "name": "stdout",
     "output_type": "stream",
     "text": [
      "Average episode duration: 1865.183228 ms\n",
      "\n",
      "EXECUTING EXPERIMENT 6 OF 10 IN ENVIRONMENT LunarLanderContinuous-v2.\n"
     ]
    }
   ],
   "source": [
    "strategies = [\"sparsemax\",\"softmax\",\"epsilon\"]\n",
    "backuprules = [\"sparsebellman\",\"softbellman\",\"bellman\"]\n",
    "temperatures = [1, 0.01, 1]\n",
    "temperatures_name = [\"high\",\"low\",\"high\"]\n",
    "action_res_list = [[51, 51], [31, 31], [11, 11], [3,3]]\n",
    "action_res_name = [\"large\",\"midlarge\",\"midsmall\",\"small\"]\n",
    "\n",
    "env_name = \"LunarLanderContinuous-v2\"\n",
    "min_avg_rwd = 200\n",
    "stop_training_min_avg_rwd = 210\n",
    "layers_size = [512, 512]\n",
    "n_ep = 3000\n",
    "n_exps = 10\n",
    "\n",
    "gym_stats_dir_prefix = os.path.join('Gym_stats', env_name)\n",
    "figures_dir = 'Figures'\n",
    "api_key = '###'\n",
    "alg_id = '###'\n",
    "\n",
    "data = defaultdict(lambda : defaultdict(lambda : defaultdict(lambda : defaultdict(lambda : None))))\n",
    "for action_res, action_name in zip(action_res_list,action_res_name):\n",
    "    for temperature, temperature_name, strategy, backuprule in zip(temperatures, temperatures_name, strategies, backuprules):\n",
    "        print(\"Problem: {}, Actions: {}, Temp: {}, Strategy: {}, Backup: {}\".format(env_name,np.prod(action_res),temperature,strategy,backuprule))\n",
    "        expsman = ExperimentsManager(env_name=env_name, agent_value_function_hidden_layers_size=layers_size,\n",
    "                              figures_dir=figures_dir, discount=0.99, decay_eps=0.999, eps_min=1E-4, learning_rate=3E-4,\n",
    "                              decay_lr=True, max_step=10000, replay_memory_max_size=10000, ep_verbose=False,\n",
    "                              exp_verbose=False, learning_rate_end=3E-5, batch_size=128, upload_last_exp=False, double_dqn=True, dueling=False,\n",
    "                              target_params_update_period_steps=50, replay_period_steps=4, min_avg_rwd=min_avg_rwd,\n",
    "                              per_proportional_prioritization=True, per_apply_importance_sampling=True, per_alpha=0.2,\n",
    "                              per_beta0=0.4,\n",
    "                              results_dir_prefix=gym_stats_dir_prefix, gym_api_key=api_key, gym_algorithm_id=alg_id,\n",
    "                              strategy=strategy,backuprule=backuprule,temperature=temperature,action_res=action_res)\n",
    "        _, _, Rwd_per_ep_v, Loss_per_ep_v = expsman.run_experiments(n_exps=n_exps, n_ep=n_ep, stop_training_min_avg_rwd=stop_training_min_avg_rwd, plot_results=False)\n",
    "        data[action_name][temperature_name][strategy][backuprule] = {\"reward_list\":Rwd_per_ep_v,\"loss_list\":Loss_per_ep_v}\n",
    "\n",
    "scipyio.savemat(env_name+\".mat\", data)\n",
    "print(\"{} is finished and is saved\".format(env_name))"
   ]
  }
 ],
 "metadata": {
  "kernelspec": {
   "display_name": "Python 2",
   "language": "python",
   "name": "python2"
  },
  "language_info": {
   "codemirror_mode": {
    "name": "ipython",
    "version": 2
   },
   "file_extension": ".py",
   "mimetype": "text/x-python",
   "name": "python",
   "nbconvert_exporter": "python",
   "pygments_lexer": "ipython2",
   "version": "2.7.12"
  }
 },
 "nbformat": 4,
 "nbformat_minor": 2
}
